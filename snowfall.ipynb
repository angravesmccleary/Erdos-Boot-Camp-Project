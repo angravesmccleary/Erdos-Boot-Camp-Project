{
  "nbformat": 4,
  "nbformat_minor": 0,
  "metadata": {
    "colab": {
      "name": "snowfall",
      "provenance": [],
      "collapsed_sections": []
    },
    "kernelspec": {
      "name": "python3",
      "display_name": "Python 3"
    },
    "language_info": {
      "name": "python"
    },
    "accelerator": "GPU"
  },
  "cells": [
    {
      "cell_type": "code",
      "metadata": {
        "id": "3Wk87AneRxkU"
      },
      "source": [
        "import pandas as pd\n",
        "import numpy as np\n",
        "import os\n",
        "import datetime\n",
        "\n",
        "def train_test_split(df,train,val,test):\n",
        "    n=len(df)\n",
        "    train_df=df[0:int(n*train)]\n",
        "    val_df=df[int(n*train):int(n*(train+val))]\n",
        "    test_df=df[int(n*(train+val)):]\n",
        "    \n",
        "    return train_df,val_df,test_df\n",
        "\n",
        "def create_dataset(X, y, time_steps=1):\n",
        "\n",
        "    Xs, ys = [], []\n",
        "\n",
        "    for i in range(len(X) - time_steps):\n",
        "\n",
        "        v = X.iloc[i:(i + time_steps)].values\n",
        "\n",
        "        Xs.append(v)\n",
        "\n",
        "        ys.append(y.iloc[i + time_steps])\n",
        "\n",
        "    return np.array(Xs), np.array(ys)\n",
        "\n",
        "\n",
        "def m_create_dataset(X, y, time_steps=1):\n",
        "\n",
        "    Xs, ys = [], []\n",
        "\n",
        "    for i in range(len(X) - time_steps-4):\n",
        "\n",
        "        v = X.iloc[i:(i + time_steps)].values\n",
        "\n",
        "        Xs.append(v)\n",
        "\n",
        "        #ys.append(y.iloc[i + time_steps+30])\n",
        "        ys.append(np.array(y.iloc[(i + time_steps):(i + time_steps+4)].values))\n",
        "        \n",
        "\n",
        "    return np.array(Xs), np.array(ys)\n"
      ],
      "execution_count": null,
      "outputs": []
    },
    {
      "cell_type": "code",
      "metadata": {
        "id": "b1-Hveg7B6Oe"
      },
      "source": [
        "import pandas as pd\n",
        "import numpy as np\n",
        "import matplotlib.pyplot as plt\n",
        "import seaborn as sns\n",
        "import datetime"
      ],
      "execution_count": null,
      "outputs": []
    },
    {
      "cell_type": "code",
      "metadata": {
        "id": "HQLQ-AbhCLHU"
      },
      "source": [
        "alaska_df=pd.read_csv('/content/drive/MyDrive/alaska/99709.csv')"
      ],
      "execution_count": null,
      "outputs": []
    },
    {
      "cell_type": "code",
      "metadata": {
        "colab": {
          "base_uri": "https://localhost:8080/",
          "height": 305
        },
        "id": "vSfAr734CSIz",
        "outputId": "016f1e23-0ec3-4fc6-d3e0-b7c45554337f"
      },
      "source": [
        "alaska_df.head()"
      ],
      "execution_count": null,
      "outputs": [
        {
          "output_type": "execute_result",
          "data": {
            "text/html": [
              "<div>\n",
              "<style scoped>\n",
              "    .dataframe tbody tr th:only-of-type {\n",
              "        vertical-align: middle;\n",
              "    }\n",
              "\n",
              "    .dataframe tbody tr th {\n",
              "        vertical-align: top;\n",
              "    }\n",
              "\n",
              "    .dataframe thead th {\n",
              "        text-align: right;\n",
              "    }\n",
              "</style>\n",
              "<table border=\"1\" class=\"dataframe\">\n",
              "  <thead>\n",
              "    <tr style=\"text-align: right;\">\n",
              "      <th></th>\n",
              "      <th>date_time</th>\n",
              "      <th>maxtempC</th>\n",
              "      <th>mintempC</th>\n",
              "      <th>totalSnow_cm</th>\n",
              "      <th>sunHour</th>\n",
              "      <th>uvIndex</th>\n",
              "      <th>moon_illumination</th>\n",
              "      <th>moonrise</th>\n",
              "      <th>moonset</th>\n",
              "      <th>sunrise</th>\n",
              "      <th>sunset</th>\n",
              "      <th>DewPointC</th>\n",
              "      <th>FeelsLikeC</th>\n",
              "      <th>HeatIndexC</th>\n",
              "      <th>WindChillC</th>\n",
              "      <th>WindGustKmph</th>\n",
              "      <th>cloudcover</th>\n",
              "      <th>humidity</th>\n",
              "      <th>precipMM</th>\n",
              "      <th>pressure</th>\n",
              "      <th>tempC</th>\n",
              "      <th>visibility</th>\n",
              "      <th>winddirDegree</th>\n",
              "      <th>windspeedKmph</th>\n",
              "      <th>location</th>\n",
              "    </tr>\n",
              "  </thead>\n",
              "  <tbody>\n",
              "    <tr>\n",
              "      <th>0</th>\n",
              "      <td>2008-07-01 00:00:00</td>\n",
              "      <td>15</td>\n",
              "      <td>9</td>\n",
              "      <td>0.0</td>\n",
              "      <td>-2.7</td>\n",
              "      <td>3</td>\n",
              "      <td>4</td>\n",
              "      <td>12:00 AM</td>\n",
              "      <td>12:00 AM</td>\n",
              "      <td>03:12 AM</td>\n",
              "      <td>12:39 AM</td>\n",
              "      <td>9</td>\n",
              "      <td>8</td>\n",
              "      <td>9</td>\n",
              "      <td>8</td>\n",
              "      <td>13</td>\n",
              "      <td>90</td>\n",
              "      <td>98</td>\n",
              "      <td>1.0</td>\n",
              "      <td>1017</td>\n",
              "      <td>9</td>\n",
              "      <td>9</td>\n",
              "      <td>248</td>\n",
              "      <td>8</td>\n",
              "      <td>99709</td>\n",
              "    </tr>\n",
              "    <tr>\n",
              "      <th>1</th>\n",
              "      <td>2008-07-01 03:00:00</td>\n",
              "      <td>15</td>\n",
              "      <td>9</td>\n",
              "      <td>0.0</td>\n",
              "      <td>-2.7</td>\n",
              "      <td>3</td>\n",
              "      <td>4</td>\n",
              "      <td>12:00 AM</td>\n",
              "      <td>12:00 AM</td>\n",
              "      <td>03:12 AM</td>\n",
              "      <td>12:39 AM</td>\n",
              "      <td>8</td>\n",
              "      <td>7</td>\n",
              "      <td>9</td>\n",
              "      <td>7</td>\n",
              "      <td>12</td>\n",
              "      <td>100</td>\n",
              "      <td>97</td>\n",
              "      <td>1.4</td>\n",
              "      <td>1017</td>\n",
              "      <td>9</td>\n",
              "      <td>9</td>\n",
              "      <td>231</td>\n",
              "      <td>8</td>\n",
              "      <td>99709</td>\n",
              "    </tr>\n",
              "    <tr>\n",
              "      <th>2</th>\n",
              "      <td>2008-07-01 06:00:00</td>\n",
              "      <td>15</td>\n",
              "      <td>9</td>\n",
              "      <td>0.0</td>\n",
              "      <td>-2.7</td>\n",
              "      <td>3</td>\n",
              "      <td>4</td>\n",
              "      <td>12:00 AM</td>\n",
              "      <td>12:00 AM</td>\n",
              "      <td>03:12 AM</td>\n",
              "      <td>12:39 AM</td>\n",
              "      <td>8</td>\n",
              "      <td>8</td>\n",
              "      <td>9</td>\n",
              "      <td>8</td>\n",
              "      <td>16</td>\n",
              "      <td>84</td>\n",
              "      <td>94</td>\n",
              "      <td>0.5</td>\n",
              "      <td>1016</td>\n",
              "      <td>9</td>\n",
              "      <td>2</td>\n",
              "      <td>237</td>\n",
              "      <td>10</td>\n",
              "      <td>99709</td>\n",
              "    </tr>\n",
              "    <tr>\n",
              "      <th>3</th>\n",
              "      <td>2008-07-01 09:00:00</td>\n",
              "      <td>15</td>\n",
              "      <td>9</td>\n",
              "      <td>0.0</td>\n",
              "      <td>-2.7</td>\n",
              "      <td>3</td>\n",
              "      <td>4</td>\n",
              "      <td>12:00 AM</td>\n",
              "      <td>12:00 AM</td>\n",
              "      <td>03:12 AM</td>\n",
              "      <td>12:39 AM</td>\n",
              "      <td>8</td>\n",
              "      <td>9</td>\n",
              "      <td>10</td>\n",
              "      <td>9</td>\n",
              "      <td>15</td>\n",
              "      <td>100</td>\n",
              "      <td>88</td>\n",
              "      <td>1.2</td>\n",
              "      <td>1015</td>\n",
              "      <td>10</td>\n",
              "      <td>9</td>\n",
              "      <td>239</td>\n",
              "      <td>11</td>\n",
              "      <td>99709</td>\n",
              "    </tr>\n",
              "    <tr>\n",
              "      <th>4</th>\n",
              "      <td>2008-07-01 12:00:00</td>\n",
              "      <td>15</td>\n",
              "      <td>9</td>\n",
              "      <td>0.0</td>\n",
              "      <td>-2.7</td>\n",
              "      <td>3</td>\n",
              "      <td>4</td>\n",
              "      <td>12:00 AM</td>\n",
              "      <td>12:00 AM</td>\n",
              "      <td>03:12 AM</td>\n",
              "      <td>12:39 AM</td>\n",
              "      <td>7</td>\n",
              "      <td>7</td>\n",
              "      <td>9</td>\n",
              "      <td>7</td>\n",
              "      <td>16</td>\n",
              "      <td>94</td>\n",
              "      <td>89</td>\n",
              "      <td>0.3</td>\n",
              "      <td>1015</td>\n",
              "      <td>9</td>\n",
              "      <td>2</td>\n",
              "      <td>241</td>\n",
              "      <td>12</td>\n",
              "      <td>99709</td>\n",
              "    </tr>\n",
              "  </tbody>\n",
              "</table>\n",
              "</div>"
            ],
            "text/plain": [
              "             date_time  maxtempC  ...  windspeedKmph  location\n",
              "0  2008-07-01 00:00:00        15  ...              8     99709\n",
              "1  2008-07-01 03:00:00        15  ...              8     99709\n",
              "2  2008-07-01 06:00:00        15  ...             10     99709\n",
              "3  2008-07-01 09:00:00        15  ...             11     99709\n",
              "4  2008-07-01 12:00:00        15  ...             12     99709\n",
              "\n",
              "[5 rows x 25 columns]"
            ]
          },
          "metadata": {
            "tags": []
          },
          "execution_count": 122
        }
      ]
    },
    {
      "cell_type": "code",
      "metadata": {
        "id": "4SfFZstlCSLn"
      },
      "source": [
        "alaska_df['date_time'] = pd.to_datetime(alaska_df['date_time'], format='%Y-%m-%d')"
      ],
      "execution_count": null,
      "outputs": []
    },
    {
      "cell_type": "code",
      "metadata": {
        "id": "S2HPN6HRGVu_"
      },
      "source": [
        "alaska_df=alaska_df.set_index('date_time')"
      ],
      "execution_count": null,
      "outputs": []
    },
    {
      "cell_type": "code",
      "metadata": {
        "id": "coXc_vdFD4Wg"
      },
      "source": [
        "alasks_prec=pd.DataFrame(alaska_df.reset_index().resample('D', on='date_time').sum()['precipMM'])\n",
        "alasks_snow=pd.DataFrame(alaska_df.reset_index().resample('D', on='date_time').sum()['totalSnow_cm'])\n",
        "alaska_mean=alaska_df.reset_index().resample('D', on='date_time').mean()\n"
      ],
      "execution_count": null,
      "outputs": []
    },
    {
      "cell_type": "code",
      "metadata": {
        "id": "OzGUiORUneFW"
      },
      "source": [
        "alaska_features=alaska_mean[['maxtempC','mintempC','tempC','DewPointC','humidity','cloudcover']]"
      ],
      "execution_count": null,
      "outputs": []
    },
    {
      "cell_type": "code",
      "metadata": {
        "colab": {
          "base_uri": "https://localhost:8080/",
          "height": 437
        },
        "id": "NwhHQS2O1CwG",
        "outputId": "cce944cd-0c2e-4a3b-e82e-f21e5b805ec0"
      },
      "source": [
        "data=pd.concat([alaska_features,alasks_snow,alasks_prec],axis=1)\n",
        "data"
      ],
      "execution_count": null,
      "outputs": [
        {
          "output_type": "execute_result",
          "data": {
            "text/html": [
              "<div>\n",
              "<style scoped>\n",
              "    .dataframe tbody tr th:only-of-type {\n",
              "        vertical-align: middle;\n",
              "    }\n",
              "\n",
              "    .dataframe tbody tr th {\n",
              "        vertical-align: top;\n",
              "    }\n",
              "\n",
              "    .dataframe thead th {\n",
              "        text-align: right;\n",
              "    }\n",
              "</style>\n",
              "<table border=\"1\" class=\"dataframe\">\n",
              "  <thead>\n",
              "    <tr style=\"text-align: right;\">\n",
              "      <th></th>\n",
              "      <th>maxtempC</th>\n",
              "      <th>mintempC</th>\n",
              "      <th>tempC</th>\n",
              "      <th>DewPointC</th>\n",
              "      <th>humidity</th>\n",
              "      <th>cloudcover</th>\n",
              "      <th>totalSnow_cm</th>\n",
              "      <th>precipMM</th>\n",
              "    </tr>\n",
              "    <tr>\n",
              "      <th>date_time</th>\n",
              "      <th></th>\n",
              "      <th></th>\n",
              "      <th></th>\n",
              "      <th></th>\n",
              "      <th></th>\n",
              "      <th></th>\n",
              "      <th></th>\n",
              "      <th></th>\n",
              "    </tr>\n",
              "  </thead>\n",
              "  <tbody>\n",
              "    <tr>\n",
              "      <th>2008-07-01</th>\n",
              "      <td>15.0</td>\n",
              "      <td>9.0</td>\n",
              "      <td>11.000</td>\n",
              "      <td>8.500</td>\n",
              "      <td>86.250</td>\n",
              "      <td>79.125</td>\n",
              "      <td>0.0</td>\n",
              "      <td>6.9</td>\n",
              "    </tr>\n",
              "    <tr>\n",
              "      <th>2008-07-02</th>\n",
              "      <td>23.0</td>\n",
              "      <td>7.0</td>\n",
              "      <td>15.875</td>\n",
              "      <td>4.500</td>\n",
              "      <td>53.375</td>\n",
              "      <td>7.750</td>\n",
              "      <td>0.0</td>\n",
              "      <td>0.2</td>\n",
              "    </tr>\n",
              "    <tr>\n",
              "      <th>2008-07-03</th>\n",
              "      <td>27.0</td>\n",
              "      <td>11.0</td>\n",
              "      <td>20.500</td>\n",
              "      <td>2.375</td>\n",
              "      <td>33.375</td>\n",
              "      <td>6.625</td>\n",
              "      <td>0.0</td>\n",
              "      <td>0.0</td>\n",
              "    </tr>\n",
              "    <tr>\n",
              "      <th>2008-07-04</th>\n",
              "      <td>28.0</td>\n",
              "      <td>13.0</td>\n",
              "      <td>21.125</td>\n",
              "      <td>7.625</td>\n",
              "      <td>44.750</td>\n",
              "      <td>5.875</td>\n",
              "      <td>0.0</td>\n",
              "      <td>0.0</td>\n",
              "    </tr>\n",
              "    <tr>\n",
              "      <th>2008-07-05</th>\n",
              "      <td>25.0</td>\n",
              "      <td>12.0</td>\n",
              "      <td>19.875</td>\n",
              "      <td>7.125</td>\n",
              "      <td>45.500</td>\n",
              "      <td>4.375</td>\n",
              "      <td>0.0</td>\n",
              "      <td>0.0</td>\n",
              "    </tr>\n",
              "    <tr>\n",
              "      <th>...</th>\n",
              "      <td>...</td>\n",
              "      <td>...</td>\n",
              "      <td>...</td>\n",
              "      <td>...</td>\n",
              "      <td>...</td>\n",
              "      <td>...</td>\n",
              "      <td>...</td>\n",
              "      <td>...</td>\n",
              "    </tr>\n",
              "    <tr>\n",
              "      <th>2020-12-27</th>\n",
              "      <td>-15.0</td>\n",
              "      <td>-20.0</td>\n",
              "      <td>-17.250</td>\n",
              "      <td>-17.500</td>\n",
              "      <td>86.250</td>\n",
              "      <td>36.375</td>\n",
              "      <td>0.0</td>\n",
              "      <td>0.0</td>\n",
              "    </tr>\n",
              "    <tr>\n",
              "      <th>2020-12-28</th>\n",
              "      <td>-10.0</td>\n",
              "      <td>-18.0</td>\n",
              "      <td>-12.375</td>\n",
              "      <td>-13.000</td>\n",
              "      <td>83.125</td>\n",
              "      <td>24.125</td>\n",
              "      <td>0.0</td>\n",
              "      <td>0.0</td>\n",
              "    </tr>\n",
              "    <tr>\n",
              "      <th>2020-12-29</th>\n",
              "      <td>-13.0</td>\n",
              "      <td>-23.0</td>\n",
              "      <td>-15.375</td>\n",
              "      <td>-15.000</td>\n",
              "      <td>90.250</td>\n",
              "      <td>20.375</td>\n",
              "      <td>0.0</td>\n",
              "      <td>0.0</td>\n",
              "    </tr>\n",
              "    <tr>\n",
              "      <th>2020-12-30</th>\n",
              "      <td>-14.0</td>\n",
              "      <td>-19.0</td>\n",
              "      <td>-15.250</td>\n",
              "      <td>-15.375</td>\n",
              "      <td>90.750</td>\n",
              "      <td>49.875</td>\n",
              "      <td>0.0</td>\n",
              "      <td>0.0</td>\n",
              "    </tr>\n",
              "    <tr>\n",
              "      <th>2020-12-31</th>\n",
              "      <td>-18.0</td>\n",
              "      <td>-26.0</td>\n",
              "      <td>-19.875</td>\n",
              "      <td>-19.500</td>\n",
              "      <td>94.000</td>\n",
              "      <td>56.000</td>\n",
              "      <td>0.0</td>\n",
              "      <td>0.0</td>\n",
              "    </tr>\n",
              "  </tbody>\n",
              "</table>\n",
              "<p>4567 rows × 8 columns</p>\n",
              "</div>"
            ],
            "text/plain": [
              "            maxtempC  mintempC   tempC  ...  cloudcover  totalSnow_cm  precipMM\n",
              "date_time                               ...                                    \n",
              "2008-07-01      15.0       9.0  11.000  ...      79.125           0.0       6.9\n",
              "2008-07-02      23.0       7.0  15.875  ...       7.750           0.0       0.2\n",
              "2008-07-03      27.0      11.0  20.500  ...       6.625           0.0       0.0\n",
              "2008-07-04      28.0      13.0  21.125  ...       5.875           0.0       0.0\n",
              "2008-07-05      25.0      12.0  19.875  ...       4.375           0.0       0.0\n",
              "...              ...       ...     ...  ...         ...           ...       ...\n",
              "2020-12-27     -15.0     -20.0 -17.250  ...      36.375           0.0       0.0\n",
              "2020-12-28     -10.0     -18.0 -12.375  ...      24.125           0.0       0.0\n",
              "2020-12-29     -13.0     -23.0 -15.375  ...      20.375           0.0       0.0\n",
              "2020-12-30     -14.0     -19.0 -15.250  ...      49.875           0.0       0.0\n",
              "2020-12-31     -18.0     -26.0 -19.875  ...      56.000           0.0       0.0\n",
              "\n",
              "[4567 rows x 8 columns]"
            ]
          },
          "metadata": {
            "tags": []
          },
          "execution_count": 127
        }
      ]
    },
    {
      "cell_type": "code",
      "metadata": {
        "colab": {
          "base_uri": "https://localhost:8080/",
          "height": 288
        },
        "id": "BLLlXfmYI_jP",
        "outputId": "d3076a63-7256-4ebc-f9b2-bf99511615fd"
      },
      "source": [
        "data.corr()"
      ],
      "execution_count": null,
      "outputs": [
        {
          "output_type": "execute_result",
          "data": {
            "text/html": [
              "<div>\n",
              "<style scoped>\n",
              "    .dataframe tbody tr th:only-of-type {\n",
              "        vertical-align: middle;\n",
              "    }\n",
              "\n",
              "    .dataframe tbody tr th {\n",
              "        vertical-align: top;\n",
              "    }\n",
              "\n",
              "    .dataframe thead th {\n",
              "        text-align: right;\n",
              "    }\n",
              "</style>\n",
              "<table border=\"1\" class=\"dataframe\">\n",
              "  <thead>\n",
              "    <tr style=\"text-align: right;\">\n",
              "      <th></th>\n",
              "      <th>maxtempC</th>\n",
              "      <th>mintempC</th>\n",
              "      <th>tempC</th>\n",
              "      <th>DewPointC</th>\n",
              "      <th>humidity</th>\n",
              "      <th>cloudcover</th>\n",
              "      <th>totalSnow_cm</th>\n",
              "      <th>precipMM</th>\n",
              "    </tr>\n",
              "  </thead>\n",
              "  <tbody>\n",
              "    <tr>\n",
              "      <th>maxtempC</th>\n",
              "      <td>1.000000</td>\n",
              "      <td>0.969413</td>\n",
              "      <td>0.993194</td>\n",
              "      <td>0.951602</td>\n",
              "      <td>-0.767451</td>\n",
              "      <td>-0.178324</td>\n",
              "      <td>-0.164386</td>\n",
              "      <td>0.127624</td>\n",
              "    </tr>\n",
              "    <tr>\n",
              "      <th>mintempC</th>\n",
              "      <td>0.969413</td>\n",
              "      <td>1.000000</td>\n",
              "      <td>0.988081</td>\n",
              "      <td>0.975123</td>\n",
              "      <td>-0.698525</td>\n",
              "      <td>-0.087875</td>\n",
              "      <td>-0.135852</td>\n",
              "      <td>0.211062</td>\n",
              "    </tr>\n",
              "    <tr>\n",
              "      <th>tempC</th>\n",
              "      <td>0.993194</td>\n",
              "      <td>0.988081</td>\n",
              "      <td>1.000000</td>\n",
              "      <td>0.968587</td>\n",
              "      <td>-0.747210</td>\n",
              "      <td>-0.133364</td>\n",
              "      <td>-0.145353</td>\n",
              "      <td>0.168964</td>\n",
              "    </tr>\n",
              "    <tr>\n",
              "      <th>DewPointC</th>\n",
              "      <td>0.951602</td>\n",
              "      <td>0.975123</td>\n",
              "      <td>0.968587</td>\n",
              "      <td>1.000000</td>\n",
              "      <td>-0.564348</td>\n",
              "      <td>-0.006947</td>\n",
              "      <td>-0.101143</td>\n",
              "      <td>0.268738</td>\n",
              "    </tr>\n",
              "    <tr>\n",
              "      <th>humidity</th>\n",
              "      <td>-0.767451</td>\n",
              "      <td>-0.698525</td>\n",
              "      <td>-0.747210</td>\n",
              "      <td>-0.564348</td>\n",
              "      <td>1.000000</td>\n",
              "      <td>0.442479</td>\n",
              "      <td>0.236115</td>\n",
              "      <td>0.163021</td>\n",
              "    </tr>\n",
              "    <tr>\n",
              "      <th>cloudcover</th>\n",
              "      <td>-0.178324</td>\n",
              "      <td>-0.087875</td>\n",
              "      <td>-0.133364</td>\n",
              "      <td>-0.006947</td>\n",
              "      <td>0.442479</td>\n",
              "      <td>1.000000</td>\n",
              "      <td>0.394806</td>\n",
              "      <td>0.428888</td>\n",
              "    </tr>\n",
              "    <tr>\n",
              "      <th>totalSnow_cm</th>\n",
              "      <td>-0.164386</td>\n",
              "      <td>-0.135852</td>\n",
              "      <td>-0.145353</td>\n",
              "      <td>-0.101143</td>\n",
              "      <td>0.236115</td>\n",
              "      <td>0.394806</td>\n",
              "      <td>1.000000</td>\n",
              "      <td>0.371754</td>\n",
              "    </tr>\n",
              "    <tr>\n",
              "      <th>precipMM</th>\n",
              "      <td>0.127624</td>\n",
              "      <td>0.211062</td>\n",
              "      <td>0.168964</td>\n",
              "      <td>0.268738</td>\n",
              "      <td>0.163021</td>\n",
              "      <td>0.428888</td>\n",
              "      <td>0.371754</td>\n",
              "      <td>1.000000</td>\n",
              "    </tr>\n",
              "  </tbody>\n",
              "</table>\n",
              "</div>"
            ],
            "text/plain": [
              "              maxtempC  mintempC     tempC  ...  cloudcover  totalSnow_cm  precipMM\n",
              "maxtempC      1.000000  0.969413  0.993194  ...   -0.178324     -0.164386  0.127624\n",
              "mintempC      0.969413  1.000000  0.988081  ...   -0.087875     -0.135852  0.211062\n",
              "tempC         0.993194  0.988081  1.000000  ...   -0.133364     -0.145353  0.168964\n",
              "DewPointC     0.951602  0.975123  0.968587  ...   -0.006947     -0.101143  0.268738\n",
              "humidity     -0.767451 -0.698525 -0.747210  ...    0.442479      0.236115  0.163021\n",
              "cloudcover   -0.178324 -0.087875 -0.133364  ...    1.000000      0.394806  0.428888\n",
              "totalSnow_cm -0.164386 -0.135852 -0.145353  ...    0.394806      1.000000  0.371754\n",
              "precipMM      0.127624  0.211062  0.168964  ...    0.428888      0.371754  1.000000\n",
              "\n",
              "[8 rows x 8 columns]"
            ]
          },
          "metadata": {
            "tags": []
          },
          "execution_count": 128
        }
      ]
    },
    {
      "cell_type": "code",
      "metadata": {
        "colab": {
          "base_uri": "https://localhost:8080/",
          "height": 335
        },
        "id": "Ch0Y_O9cOWnH",
        "outputId": "cf82a3e8-b7cc-4c6c-d9f2-ee182f32c882"
      },
      "source": [
        "alaska_df.head()"
      ],
      "execution_count": null,
      "outputs": [
        {
          "output_type": "execute_result",
          "data": {
            "text/html": [
              "<div>\n",
              "<style scoped>\n",
              "    .dataframe tbody tr th:only-of-type {\n",
              "        vertical-align: middle;\n",
              "    }\n",
              "\n",
              "    .dataframe tbody tr th {\n",
              "        vertical-align: top;\n",
              "    }\n",
              "\n",
              "    .dataframe thead th {\n",
              "        text-align: right;\n",
              "    }\n",
              "</style>\n",
              "<table border=\"1\" class=\"dataframe\">\n",
              "  <thead>\n",
              "    <tr style=\"text-align: right;\">\n",
              "      <th></th>\n",
              "      <th>maxtempC</th>\n",
              "      <th>mintempC</th>\n",
              "      <th>totalSnow_cm</th>\n",
              "      <th>sunHour</th>\n",
              "      <th>uvIndex</th>\n",
              "      <th>moon_illumination</th>\n",
              "      <th>moonrise</th>\n",
              "      <th>moonset</th>\n",
              "      <th>sunrise</th>\n",
              "      <th>sunset</th>\n",
              "      <th>DewPointC</th>\n",
              "      <th>FeelsLikeC</th>\n",
              "      <th>HeatIndexC</th>\n",
              "      <th>WindChillC</th>\n",
              "      <th>WindGustKmph</th>\n",
              "      <th>cloudcover</th>\n",
              "      <th>humidity</th>\n",
              "      <th>precipMM</th>\n",
              "      <th>pressure</th>\n",
              "      <th>tempC</th>\n",
              "      <th>visibility</th>\n",
              "      <th>winddirDegree</th>\n",
              "      <th>windspeedKmph</th>\n",
              "      <th>location</th>\n",
              "    </tr>\n",
              "    <tr>\n",
              "      <th>date_time</th>\n",
              "      <th></th>\n",
              "      <th></th>\n",
              "      <th></th>\n",
              "      <th></th>\n",
              "      <th></th>\n",
              "      <th></th>\n",
              "      <th></th>\n",
              "      <th></th>\n",
              "      <th></th>\n",
              "      <th></th>\n",
              "      <th></th>\n",
              "      <th></th>\n",
              "      <th></th>\n",
              "      <th></th>\n",
              "      <th></th>\n",
              "      <th></th>\n",
              "      <th></th>\n",
              "      <th></th>\n",
              "      <th></th>\n",
              "      <th></th>\n",
              "      <th></th>\n",
              "      <th></th>\n",
              "      <th></th>\n",
              "      <th></th>\n",
              "    </tr>\n",
              "  </thead>\n",
              "  <tbody>\n",
              "    <tr>\n",
              "      <th>2008-07-01 00:00:00</th>\n",
              "      <td>15</td>\n",
              "      <td>9</td>\n",
              "      <td>0.0</td>\n",
              "      <td>-2.7</td>\n",
              "      <td>3</td>\n",
              "      <td>4</td>\n",
              "      <td>12:00 AM</td>\n",
              "      <td>12:00 AM</td>\n",
              "      <td>03:12 AM</td>\n",
              "      <td>12:39 AM</td>\n",
              "      <td>9</td>\n",
              "      <td>8</td>\n",
              "      <td>9</td>\n",
              "      <td>8</td>\n",
              "      <td>13</td>\n",
              "      <td>90</td>\n",
              "      <td>98</td>\n",
              "      <td>1.0</td>\n",
              "      <td>1017</td>\n",
              "      <td>9</td>\n",
              "      <td>9</td>\n",
              "      <td>248</td>\n",
              "      <td>8</td>\n",
              "      <td>99709</td>\n",
              "    </tr>\n",
              "    <tr>\n",
              "      <th>2008-07-01 03:00:00</th>\n",
              "      <td>15</td>\n",
              "      <td>9</td>\n",
              "      <td>0.0</td>\n",
              "      <td>-2.7</td>\n",
              "      <td>3</td>\n",
              "      <td>4</td>\n",
              "      <td>12:00 AM</td>\n",
              "      <td>12:00 AM</td>\n",
              "      <td>03:12 AM</td>\n",
              "      <td>12:39 AM</td>\n",
              "      <td>8</td>\n",
              "      <td>7</td>\n",
              "      <td>9</td>\n",
              "      <td>7</td>\n",
              "      <td>12</td>\n",
              "      <td>100</td>\n",
              "      <td>97</td>\n",
              "      <td>1.4</td>\n",
              "      <td>1017</td>\n",
              "      <td>9</td>\n",
              "      <td>9</td>\n",
              "      <td>231</td>\n",
              "      <td>8</td>\n",
              "      <td>99709</td>\n",
              "    </tr>\n",
              "    <tr>\n",
              "      <th>2008-07-01 06:00:00</th>\n",
              "      <td>15</td>\n",
              "      <td>9</td>\n",
              "      <td>0.0</td>\n",
              "      <td>-2.7</td>\n",
              "      <td>3</td>\n",
              "      <td>4</td>\n",
              "      <td>12:00 AM</td>\n",
              "      <td>12:00 AM</td>\n",
              "      <td>03:12 AM</td>\n",
              "      <td>12:39 AM</td>\n",
              "      <td>8</td>\n",
              "      <td>8</td>\n",
              "      <td>9</td>\n",
              "      <td>8</td>\n",
              "      <td>16</td>\n",
              "      <td>84</td>\n",
              "      <td>94</td>\n",
              "      <td>0.5</td>\n",
              "      <td>1016</td>\n",
              "      <td>9</td>\n",
              "      <td>2</td>\n",
              "      <td>237</td>\n",
              "      <td>10</td>\n",
              "      <td>99709</td>\n",
              "    </tr>\n",
              "    <tr>\n",
              "      <th>2008-07-01 09:00:00</th>\n",
              "      <td>15</td>\n",
              "      <td>9</td>\n",
              "      <td>0.0</td>\n",
              "      <td>-2.7</td>\n",
              "      <td>3</td>\n",
              "      <td>4</td>\n",
              "      <td>12:00 AM</td>\n",
              "      <td>12:00 AM</td>\n",
              "      <td>03:12 AM</td>\n",
              "      <td>12:39 AM</td>\n",
              "      <td>8</td>\n",
              "      <td>9</td>\n",
              "      <td>10</td>\n",
              "      <td>9</td>\n",
              "      <td>15</td>\n",
              "      <td>100</td>\n",
              "      <td>88</td>\n",
              "      <td>1.2</td>\n",
              "      <td>1015</td>\n",
              "      <td>10</td>\n",
              "      <td>9</td>\n",
              "      <td>239</td>\n",
              "      <td>11</td>\n",
              "      <td>99709</td>\n",
              "    </tr>\n",
              "    <tr>\n",
              "      <th>2008-07-01 12:00:00</th>\n",
              "      <td>15</td>\n",
              "      <td>9</td>\n",
              "      <td>0.0</td>\n",
              "      <td>-2.7</td>\n",
              "      <td>3</td>\n",
              "      <td>4</td>\n",
              "      <td>12:00 AM</td>\n",
              "      <td>12:00 AM</td>\n",
              "      <td>03:12 AM</td>\n",
              "      <td>12:39 AM</td>\n",
              "      <td>7</td>\n",
              "      <td>7</td>\n",
              "      <td>9</td>\n",
              "      <td>7</td>\n",
              "      <td>16</td>\n",
              "      <td>94</td>\n",
              "      <td>89</td>\n",
              "      <td>0.3</td>\n",
              "      <td>1015</td>\n",
              "      <td>9</td>\n",
              "      <td>2</td>\n",
              "      <td>241</td>\n",
              "      <td>12</td>\n",
              "      <td>99709</td>\n",
              "    </tr>\n",
              "  </tbody>\n",
              "</table>\n",
              "</div>"
            ],
            "text/plain": [
              "                     maxtempC  mintempC  ...  windspeedKmph  location\n",
              "date_time                                ...                         \n",
              "2008-07-01 00:00:00        15         9  ...              8     99709\n",
              "2008-07-01 03:00:00        15         9  ...              8     99709\n",
              "2008-07-01 06:00:00        15         9  ...             10     99709\n",
              "2008-07-01 09:00:00        15         9  ...             11     99709\n",
              "2008-07-01 12:00:00        15         9  ...             12     99709\n",
              "\n",
              "[5 rows x 24 columns]"
            ]
          },
          "metadata": {
            "tags": []
          },
          "execution_count": 129
        }
      ]
    },
    {
      "cell_type": "code",
      "metadata": {
        "colab": {
          "base_uri": "https://localhost:8080/",
          "height": 805
        },
        "id": "IpCnquv-Qz-0",
        "outputId": "129efba5-72a8-4c6d-b3ca-8fafd3e0a241"
      },
      "source": [
        "plt.figure(figsize=(12,12))\n",
        "sns.heatmap(alaska_df.corr()) ## heatmap"
      ],
      "execution_count": null,
      "outputs": [
        {
          "output_type": "execute_result",
          "data": {
            "text/plain": [
              "<matplotlib.axes._subplots.AxesSubplot at 0x7f3a4e5d9350>"
            ]
          },
          "metadata": {
            "tags": []
          },
          "execution_count": 130
        },
        {
          "output_type": "display_data",
          "data": {
            "image/png": "[encoded data removed]",
            "text/plain": [
              "<Figure size 864x864 with 2 Axes>"
            ]
          },
          "metadata": {
            "tags": [],
            "needs_background": "light"
          }
        }
      ]
    },
    {
      "cell_type": "code",
      "metadata": {
        "colab": {
          "base_uri": "https://localhost:8080/",
          "height": 501
        },
        "id": "XVsv2ghBoGEN",
        "outputId": "3fa3e3d4-1749-41c1-9c0f-c59db121820f"
      },
      "source": [
        "plt.figure(figsize=(12,8))\n",
        "plt.plot(alaska_df['totalSnow_cm'])"
      ],
      "execution_count": null,
      "outputs": [
        {
          "output_type": "execute_result",
          "data": {
            "text/plain": [
              "[<matplotlib.lines.Line2D at 0x7f3a425e2fd0>]"
            ]
          },
          "metadata": {
            "tags": []
          },
          "execution_count": 131
        },
        {
          "output_type": "display_data",
          "data": {
            "image/png": "[encoded data removed]",
            "text/plain": [
              "<Figure size 864x576 with 1 Axes>"
            ]
          },
          "metadata": {
            "tags": [],
            "needs_background": "light"
          }
        }
      ]
    },
    {
      "cell_type": "code",
      "metadata": {
        "colab": {
          "base_uri": "https://localhost:8080/"
        },
        "id": "FjQWX1cTyGg-",
        "outputId": "f599a7fe-a264-43d1-9901-0faab895d0a2"
      },
      "source": [
        "import tensorflow as tf\n",
        "from tensorflow import keras\n",
        "\n",
        "time_steps = 120\n",
        "\n",
        "### LSTM parameters\n",
        "lstm_units= 256\n",
        "lstm_dropout=0.4\n",
        "learning_rate=0.0001\n",
        "stop_patience=15\n",
        "max_epocs=500\n",
        "lstm_batch_size=64\n",
        "\n",
        "\n",
        "forcing_train,forcing_val,forcing_test=train_test_split(alaska_df,0.6,0.2,0.2)\n",
        "\n",
        "### normalize data\n",
        "forcing_mean = forcing_train.mean()\n",
        "forcing_std = forcing_train.std()\n",
        "\n",
        "forcing_train = (forcing_train - forcing_mean) / forcing_std\n",
        "forcing_val = (forcing_val - forcing_mean) / forcing_std\n",
        "forcing_test = (forcing_test - forcing_mean) / forcing_std\n",
        "\n",
        "### create sequences of data\n",
        "x_train, y_train = create_dataset(forcing_train[['cloudcover','totalSnow_cm']] ,forcing_train['totalSnow_cm'], time_steps)\n",
        "print(x_train.shape, y_train.shape)\n",
        "\n",
        "x_val, y_val = create_dataset(forcing_val[['cloudcover','totalSnow_cm']] , forcing_val['totalSnow_cm'], time_steps)\n",
        "print(x_val.shape, y_val.shape)\n",
        "\n",
        "x_test, y_test = create_dataset(forcing_test[['cloudcover','totalSnow_cm']] , forcing_test['totalSnow_cm'], time_steps)\n",
        "print(x_test.shape, y_test.shape)\n",
        "\n",
        "### build model and training\n",
        "lstm_model = tf.keras.models.Sequential([\n",
        "    tf.keras.layers.Bidirectional(tf.keras.layers.LSTM(lstm_units)),\n",
        "    tf.keras.layers.Dropout(rate=lstm_dropout),\n",
        "    tf.keras.layers.Dense(1, kernel_initializer=tf.initializers.zeros())])\n",
        "\n",
        "customAdam = keras.optimizers.Adam(lr=learning_rate)   \n",
        "early_stopping = tf.keras.callbacks.EarlyStopping(monitor='val_loss',\n",
        "                                                    patience=stop_patience,\n",
        "                                                    mode='min')\n",
        "\n",
        "lstm_model.compile(loss=tf.losses.MeanSquaredError(),\n",
        "            optimizer=customAdam,\n",
        "            metrics=[tf.metrics.RootMeanSquaredError()])\n",
        "\n",
        "history = lstm_model.fit(x_train, y_train ,epochs=max_epocs,\n",
        "                  batch_size=lstm_batch_size,\n",
        "                  validation_data=(x_val,y_val), \n",
        "                  callbacks=[early_stopping],shuffle=True)\n",
        "\n",
        "\n",
        "### Evaluate the model\n",
        "\n",
        "val_performance= lstm_model.evaluate(x_val, y_val) \n",
        "performance= lstm_model.evaluate(x_test, y_test) \n",
        "print(performance)"
      ],
      "execution_count": null,
      "outputs": [
        {
          "output_type": "stream",
          "text": [
            "(21801, 120, 2) (21801,)\n",
            "(7187, 120, 2) (7187,)\n",
            "(7188, 120, 2) (7188,)\n",
            "Epoch 1/500\n"
          ],
          "name": "stdout"
        },
        {
          "output_type": "stream",
          "text": [
            "/usr/local/lib/python3.7/dist-packages/tensorflow/python/keras/optimizer_v2/optimizer_v2.py:375: UserWarning: The `lr` argument is deprecated, use `learning_rate` instead.\n",
            "  \"The `lr` argument is deprecated, use `learning_rate` instead.\")\n"
          ],
          "name": "stderr"
        },
        {
          "output_type": "stream",
          "text": [
            "341/341 [==============================] - 11s 23ms/step - loss: 0.7111 - root_mean_squared_error: 0.8433 - val_loss: 0.5110 - val_root_mean_squared_error: 0.7148\n",
            "Epoch 2/500\n",
            "341/341 [==============================] - 7s 21ms/step - loss: 0.3834 - root_mean_squared_error: 0.6192 - val_loss: 0.3202 - val_root_mean_squared_error: 0.5659\n",
            "Epoch 3/500\n",
            "341/341 [==============================] - 7s 21ms/step - loss: 0.2976 - root_mean_squared_error: 0.5455 - val_loss: 0.2722 - val_root_mean_squared_error: 0.5217\n",
            "Epoch 4/500\n",
            "341/341 [==============================] - 7s 21ms/step - loss: 0.2721 - root_mean_squared_error: 0.5216 - val_loss: 0.2419 - val_root_mean_squared_error: 0.4918\n",
            "Epoch 5/500\n",
            "341/341 [==============================] - 7s 21ms/step - loss: 0.2477 - root_mean_squared_error: 0.4977 - val_loss: 0.2250 - val_root_mean_squared_error: 0.4744\n",
            "Epoch 6/500\n",
            "341/341 [==============================] - 7s 21ms/step - loss: 0.2306 - root_mean_squared_error: 0.4802 - val_loss: 0.2074 - val_root_mean_squared_error: 0.4555\n",
            "Epoch 7/500\n",
            "341/341 [==============================] - 7s 21ms/step - loss: 0.2198 - root_mean_squared_error: 0.4689 - val_loss: 0.1984 - val_root_mean_squared_error: 0.4454\n",
            "Epoch 8/500\n",
            "341/341 [==============================] - 7s 21ms/step - loss: 0.2103 - root_mean_squared_error: 0.4586 - val_loss: 0.1873 - val_root_mean_squared_error: 0.4328\n",
            "Epoch 9/500\n",
            "341/341 [==============================] - 7s 21ms/step - loss: 0.2016 - root_mean_squared_error: 0.4490 - val_loss: 0.1807 - val_root_mean_squared_error: 0.4251\n",
            "Epoch 10/500\n",
            "341/341 [==============================] - 7s 21ms/step - loss: 0.1923 - root_mean_squared_error: 0.4385 - val_loss: 0.1749 - val_root_mean_squared_error: 0.4182\n",
            "Epoch 11/500\n",
            "341/341 [==============================] - 7s 21ms/step - loss: 0.1886 - root_mean_squared_error: 0.4343 - val_loss: 0.1694 - val_root_mean_squared_error: 0.4115\n",
            "Epoch 12/500\n",
            "341/341 [==============================] - 7s 21ms/step - loss: 0.1865 - root_mean_squared_error: 0.4319 - val_loss: 0.1683 - val_root_mean_squared_error: 0.4103\n",
            "Epoch 13/500\n",
            "341/341 [==============================] - 7s 21ms/step - loss: 0.1806 - root_mean_squared_error: 0.4249 - val_loss: 0.1653 - val_root_mean_squared_error: 0.4066\n",
            "Epoch 14/500\n",
            "341/341 [==============================] - 7s 22ms/step - loss: 0.1730 - root_mean_squared_error: 0.4159 - val_loss: 0.1659 - val_root_mean_squared_error: 0.4073\n",
            "Epoch 15/500\n",
            "341/341 [==============================] - 7s 21ms/step - loss: 0.1751 - root_mean_squared_error: 0.4184 - val_loss: 0.1609 - val_root_mean_squared_error: 0.4011\n",
            "Epoch 16/500\n",
            "341/341 [==============================] - 7s 22ms/step - loss: 0.1705 - root_mean_squared_error: 0.4129 - val_loss: 0.1674 - val_root_mean_squared_error: 0.4092\n",
            "Epoch 17/500\n",
            "341/341 [==============================] - 7s 22ms/step - loss: 0.1684 - root_mean_squared_error: 0.4104 - val_loss: 0.1596 - val_root_mean_squared_error: 0.3994\n",
            "Epoch 18/500\n",
            "341/341 [==============================] - 7s 22ms/step - loss: 0.1595 - root_mean_squared_error: 0.3994 - val_loss: 0.1532 - val_root_mean_squared_error: 0.3914\n",
            "Epoch 19/500\n",
            "341/341 [==============================] - 7s 22ms/step - loss: 0.1657 - root_mean_squared_error: 0.4070 - val_loss: 0.1542 - val_root_mean_squared_error: 0.3927\n",
            "Epoch 20/500\n",
            "341/341 [==============================] - 7s 22ms/step - loss: 0.1590 - root_mean_squared_error: 0.3988 - val_loss: 0.1521 - val_root_mean_squared_error: 0.3899\n",
            "Epoch 21/500\n",
            "341/341 [==============================] - 7s 22ms/step - loss: 0.1567 - root_mean_squared_error: 0.3958 - val_loss: 0.1469 - val_root_mean_squared_error: 0.3832\n",
            "Epoch 22/500\n",
            "341/341 [==============================] - 7s 22ms/step - loss: 0.1503 - root_mean_squared_error: 0.3877 - val_loss: 0.1442 - val_root_mean_squared_error: 0.3797\n",
            "Epoch 23/500\n",
            "341/341 [==============================] - 7s 22ms/step - loss: 0.1539 - root_mean_squared_error: 0.3923 - val_loss: 0.1511 - val_root_mean_squared_error: 0.3887\n",
            "Epoch 24/500\n",
            "341/341 [==============================] - 7s 22ms/step - loss: 0.1465 - root_mean_squared_error: 0.3827 - val_loss: 0.1506 - val_root_mean_squared_error: 0.3880\n",
            "Epoch 25/500\n",
            "341/341 [==============================] - 7s 22ms/step - loss: 0.1536 - root_mean_squared_error: 0.3920 - val_loss: 0.1532 - val_root_mean_squared_error: 0.3913\n",
            "Epoch 26/500\n",
            "341/341 [==============================] - 7s 22ms/step - loss: 0.1511 - root_mean_squared_error: 0.3888 - val_loss: 0.1436 - val_root_mean_squared_error: 0.3790\n",
            "Epoch 27/500\n",
            "341/341 [==============================] - 7s 22ms/step - loss: 0.1459 - root_mean_squared_error: 0.3820 - val_loss: 0.1487 - val_root_mean_squared_error: 0.3856\n",
            "Epoch 28/500\n",
            "341/341 [==============================] - 7s 22ms/step - loss: 0.1548 - root_mean_squared_error: 0.3934 - val_loss: 0.1553 - val_root_mean_squared_error: 0.3941\n",
            "Epoch 29/500\n",
            "341/341 [==============================] - 7s 22ms/step - loss: 0.1472 - root_mean_squared_error: 0.3837 - val_loss: 0.1427 - val_root_mean_squared_error: 0.3778\n",
            "Epoch 30/500\n",
            "341/341 [==============================] - 8s 22ms/step - loss: 0.1400 - root_mean_squared_error: 0.3741 - val_loss: 0.1445 - val_root_mean_squared_error: 0.3801\n",
            "Epoch 31/500\n",
            "341/341 [==============================] - 7s 22ms/step - loss: 0.1454 - root_mean_squared_error: 0.3813 - val_loss: 0.1439 - val_root_mean_squared_error: 0.3794\n",
            "Epoch 32/500\n",
            "341/341 [==============================] - 8s 22ms/step - loss: 0.1427 - root_mean_squared_error: 0.3778 - val_loss: 0.1580 - val_root_mean_squared_error: 0.3975\n",
            "Epoch 33/500\n",
            "341/341 [==============================] - 7s 22ms/step - loss: 0.1460 - root_mean_squared_error: 0.3821 - val_loss: 0.1373 - val_root_mean_squared_error: 0.3706\n",
            "Epoch 34/500\n",
            "341/341 [==============================] - 7s 22ms/step - loss: 0.1381 - root_mean_squared_error: 0.3717 - val_loss: 0.1385 - val_root_mean_squared_error: 0.3721\n",
            "Epoch 35/500\n",
            "341/341 [==============================] - 7s 22ms/step - loss: 0.1443 - root_mean_squared_error: 0.3799 - val_loss: 0.1630 - val_root_mean_squared_error: 0.4037\n",
            "Epoch 36/500\n",
            "341/341 [==============================] - 7s 22ms/step - loss: 0.1485 - root_mean_squared_error: 0.3853 - val_loss: 0.1363 - val_root_mean_squared_error: 0.3691\n",
            "Epoch 37/500\n",
            "341/341 [==============================] - 7s 22ms/step - loss: 0.1421 - root_mean_squared_error: 0.3770 - val_loss: 0.1439 - val_root_mean_squared_error: 0.3793\n",
            "Epoch 38/500\n",
            "341/341 [==============================] - 8s 22ms/step - loss: 0.1427 - root_mean_squared_error: 0.3777 - val_loss: 0.1390 - val_root_mean_squared_error: 0.3729\n",
            "Epoch 39/500\n",
            "341/341 [==============================] - 8s 22ms/step - loss: 0.1433 - root_mean_squared_error: 0.3786 - val_loss: 0.1405 - val_root_mean_squared_error: 0.3748\n",
            "Epoch 40/500\n",
            "341/341 [==============================] - 7s 22ms/step - loss: 0.1335 - root_mean_squared_error: 0.3653 - val_loss: 0.1382 - val_root_mean_squared_error: 0.3718\n",
            "Epoch 41/500\n",
            "341/341 [==============================] - 7s 22ms/step - loss: 0.1355 - root_mean_squared_error: 0.3681 - val_loss: 0.1604 - val_root_mean_squared_error: 0.4006\n",
            "Epoch 42/500\n",
            "341/341 [==============================] - 7s 22ms/step - loss: 0.1372 - root_mean_squared_error: 0.3704 - val_loss: 0.1389 - val_root_mean_squared_error: 0.3727\n",
            "Epoch 43/500\n",
            "341/341 [==============================] - 7s 22ms/step - loss: 0.1350 - root_mean_squared_error: 0.3674 - val_loss: 0.1444 - val_root_mean_squared_error: 0.3800\n",
            "Epoch 44/500\n",
            "341/341 [==============================] - 7s 22ms/step - loss: 0.1412 - root_mean_squared_error: 0.3758 - val_loss: 0.1405 - val_root_mean_squared_error: 0.3748\n",
            "Epoch 45/500\n",
            "341/341 [==============================] - 8s 22ms/step - loss: 0.1367 - root_mean_squared_error: 0.3697 - val_loss: 0.1393 - val_root_mean_squared_error: 0.3732\n",
            "Epoch 46/500\n",
            "341/341 [==============================] - 8s 22ms/step - loss: 0.1326 - root_mean_squared_error: 0.3642 - val_loss: 0.1364 - val_root_mean_squared_error: 0.3693\n",
            "Epoch 47/500\n",
            "341/341 [==============================] - 8s 22ms/step - loss: 0.1337 - root_mean_squared_error: 0.3657 - val_loss: 0.1446 - val_root_mean_squared_error: 0.3802\n",
            "Epoch 48/500\n",
            "341/341 [==============================] - 8s 22ms/step - loss: 0.1337 - root_mean_squared_error: 0.3657 - val_loss: 0.1388 - val_root_mean_squared_error: 0.3725\n",
            "Epoch 49/500\n",
            "341/341 [==============================] - 7s 22ms/step - loss: 0.1314 - root_mean_squared_error: 0.3625 - val_loss: 0.1621 - val_root_mean_squared_error: 0.4027\n",
            "Epoch 50/500\n",
            "341/341 [==============================] - 7s 22ms/step - loss: 0.1366 - root_mean_squared_error: 0.3696 - val_loss: 0.1378 - val_root_mean_squared_error: 0.3713\n",
            "Epoch 51/500\n",
            "341/341 [==============================] - 8s 22ms/step - loss: 0.1374 - root_mean_squared_error: 0.3706 - val_loss: 0.1373 - val_root_mean_squared_error: 0.3705\n",
            "225/225 [==============================] - 1s 6ms/step - loss: 0.1373 - root_mean_squared_error: 0.3705\n",
            "225/225 [==============================] - 1s 6ms/step - loss: 0.2244 - root_mean_squared_error: 0.4738\n",
            "[0.2244495153427124, 0.47376102209091187]\n"
          ],
          "name": "stdout"
        }
      ]
    },
    {
      "cell_type": "code",
      "metadata": {
        "colab": {
          "base_uri": "https://localhost:8080/",
          "height": 374
        },
        "id": "nswPvSUIpio7",
        "outputId": "64b1555c-cd33-4742-9033-9b0561003fad"
      },
      "source": [
        "plt.figure(figsize=(10,6 ))\n",
        "plt.plot(history.history['loss'],label='Training MSE')\n",
        "plt.plot(history.history['val_loss'], label='Validation MSE')\n",
        "plt.legend(loc=\"upper left\")\n",
        "plt.show()"
      ],
      "execution_count": null,
      "outputs": [
        {
          "output_type": "display_data",
          "data": {
            "image/png": "[encoded data removed]",
            "text/plain": [
              "<Figure size 720x432 with 1 Axes>"
            ]
          },
          "metadata": {
            "tags": [],
            "needs_background": "light"
          }
        }
      ]
    },
    {
      "cell_type": "code",
      "metadata": {
        "colab": {
          "base_uri": "https://localhost:8080/",
          "height": 374
        },
        "id": "vEaSIleXqJPE",
        "outputId": "7d4ad75b-b8f2-43df-b31b-fa50c3e0eafc"
      },
      "source": [
        "plt.figure(figsize=(10,6 ))\n",
        "plt.plot(history.history['root_mean_squared_error'],label='Training RMSE')\n",
        "plt.plot(history.history['val_root_mean_squared_error'],label='Validation RMSE')\n",
        "plt.legend(loc=\"upper left\")\n",
        "plt.show()"
      ],
      "execution_count": null,
      "outputs": [
        {
          "output_type": "display_data",
          "data": {
            "image/png": "[encoded data removed]",
            "text/plain": [
              "<Figure size 720x432 with 1 Axes>"
            ]
          },
          "metadata": {
            "tags": [],
            "needs_background": "light"
          }
        }
      ]
    },
    {
      "cell_type": "code",
      "metadata": {
        "id": "5nAoN-gaxl60"
      },
      "source": [
        "p_train=lstm_model.predict(x_train)\n",
        "p_val=lstm_model.predict(x_val)\n",
        "p_test=lstm_model.predict(x_test)\n",
        "\n",
        "y_train_inv=(y_train*forcing_std['totalSnow_cm'])+forcing_mean['totalSnow_cm']\n",
        "p_train_inv=(p_train*forcing_std['totalSnow_cm'])+forcing_mean['totalSnow_cm']\n",
        "\n",
        "y_val_inv=(y_val*forcing_std['totalSnow_cm'])+forcing_mean['totalSnow_cm']\n",
        "p_val_inv=(p_val*forcing_std['totalSnow_cm'])+forcing_mean['totalSnow_cm']\n",
        "\n",
        "y_test_inv=(y_test*forcing_std['totalSnow_cm'])+forcing_mean['totalSnow_cm']\n",
        "p_test_inv=(p_test*forcing_std['totalSnow_cm'])+forcing_mean['totalSnow_cm']"
      ],
      "execution_count": null,
      "outputs": []
    },
    {
      "cell_type": "code",
      "metadata": {
        "colab": {
          "base_uri": "https://localhost:8080/",
          "height": 592
        },
        "id": "iEyRW67ghR0P",
        "outputId": "b7ea8882-af39-41bd-d454-6dffc518f02a"
      },
      "source": [
        "plt.figure(figsize=(18,10 ))\n",
        "plt.plot(y_test_inv,label='True Data')\n",
        "plt.plot(p_test_inv,label='Predict Data')\n",
        "plt.legend(loc=\"upper left\")\n",
        "plt.show()"
      ],
      "execution_count": null,
      "outputs": [
        {
          "output_type": "display_data",
          "data": {
            "image/png": "[encoded data removed]",
            "text/plain": [
              "<Figure size 1296x720 with 1 Axes>"
            ]
          },
          "metadata": {
            "tags": [],
            "needs_background": "light"
          }
        }
      ]
    },
    {
      "cell_type": "code",
      "metadata": {
        "id": "pJsDJa_gMABi",
        "colab": {
          "base_uri": "https://localhost:8080/",
          "height": 625
        },
        "outputId": "a25ab864-8253-41ad-c434-ce2e2eee8b56"
      },
      "source": [
        "plt.figure(figsize=(18,10 ))\n",
        "plt.scatter(y_test_inv,p_test_inv)\n",
        "plt.xlabel(\"True Data\")\n",
        "plt.ylabel(\"Predict Data\")"
      ],
      "execution_count": null,
      "outputs": [
        {
          "output_type": "execute_result",
          "data": {
            "text/plain": [
              "Text(0, 0.5, 'Predict Data')"
            ]
          },
          "metadata": {
            "tags": []
          },
          "execution_count": 72
        },
        {
          "output_type": "display_data",
          "data": {
            "image/png": "[encoded data removed]",
            "text/plain": [
              "<Figure size 1296x720 with 1 Axes>"
            ]
          },
          "metadata": {
            "tags": [],
            "needs_background": "light"
          }
        }
      ]
    },
    {
      "cell_type": "code",
      "metadata": {
        "colab": {
          "base_uri": "https://localhost:8080/"
        },
        "id": "4M22eIbImCVS",
        "outputId": "136d8a05-210e-4fe1-d1ca-c3670f15afb9"
      },
      "source": [
        "alaska_df.index[1].hour"
      ],
      "execution_count": null,
      "outputs": [
        {
          "output_type": "execute_result",
          "data": {
            "text/plain": [
              "3"
            ]
          },
          "metadata": {
            "tags": []
          },
          "execution_count": 83
        }
      ]
    },
    {
      "cell_type": "code",
      "metadata": {
        "colab": {
          "base_uri": "https://localhost:8080/"
        },
        "id": "bVEtBU6lsVEQ",
        "outputId": "86dfa97d-357c-4119-828e-a7d811f654b6"
      },
      "source": [
        "alaska_df['hour']=alaska_df['cloudcover']\n",
        "for i in range(len(alaska_df)):\n",
        "  alaska_df['hour'][i]=alaska_df.index[i].hour"
      ],
      "execution_count": null,
      "outputs": [
        {
          "output_type": "stream",
          "text": [
            "/usr/local/lib/python3.7/dist-packages/ipykernel_launcher.py:3: SettingWithCopyWarning: \n",
            "A value is trying to be set on a copy of a slice from a DataFrame\n",
            "\n",
            "See the caveats in the documentation: https://pandas.pydata.org/pandas-docs/stable/user_guide/indexing.html#returning-a-view-versus-a-copy\n",
            "  This is separate from the ipykernel package so we can avoid doing imports until\n"
          ],
          "name": "stderr"
        }
      ]
    },
    {
      "cell_type": "code",
      "metadata": {
        "colab": {
          "base_uri": "https://localhost:8080/"
        },
        "id": "7OG_4UAAs_qB",
        "outputId": "b19646c6-15e7-48b0-d631-943762a7885b"
      },
      "source": [
        "alaska_df['day']=alaska_df['cloudcover']\n",
        "for i in range(len(alaska_df)):\n",
        "  alaska_df['day'][i]=alaska_df.index[i].day"
      ],
      "execution_count": null,
      "outputs": [
        {
          "output_type": "stream",
          "text": [
            "/usr/local/lib/python3.7/dist-packages/ipykernel_launcher.py:3: SettingWithCopyWarning: \n",
            "A value is trying to be set on a copy of a slice from a DataFrame\n",
            "\n",
            "See the caveats in the documentation: https://pandas.pydata.org/pandas-docs/stable/user_guide/indexing.html#returning-a-view-versus-a-copy\n",
            "  This is separate from the ipykernel package so we can avoid doing imports until\n"
          ],
          "name": "stderr"
        }
      ]
    },
    {
      "cell_type": "code",
      "metadata": {
        "colab": {
          "base_uri": "https://localhost:8080/"
        },
        "id": "KeSXUAZ5tBmH",
        "outputId": "8f8ffcf2-6b77-49f1-c07a-045d948df18f"
      },
      "source": [
        "alaska_df['month']=alaska_df['cloudcover']\n",
        "for i in range(len(alaska_df)):\n",
        "  alaska_df['month'][i]=alaska_df.index[i].month\n",
        "\n",
        "alaska_df['year']=alaska_df['cloudcover']\n",
        "for i in range(len(alaska_df)):\n",
        "  alaska_df['year'][i]=alaska_df.index[i].year"
      ],
      "execution_count": null,
      "outputs": [
        {
          "output_type": "stream",
          "text": [
            "/usr/local/lib/python3.7/dist-packages/ipykernel_launcher.py:3: SettingWithCopyWarning: \n",
            "A value is trying to be set on a copy of a slice from a DataFrame\n",
            "\n",
            "See the caveats in the documentation: https://pandas.pydata.org/pandas-docs/stable/user_guide/indexing.html#returning-a-view-versus-a-copy\n",
            "  This is separate from the ipykernel package so we can avoid doing imports until\n",
            "/usr/local/lib/python3.7/dist-packages/ipykernel_launcher.py:7: SettingWithCopyWarning: \n",
            "A value is trying to be set on a copy of a slice from a DataFrame\n",
            "\n",
            "See the caveats in the documentation: https://pandas.pydata.org/pandas-docs/stable/user_guide/indexing.html#returning-a-view-versus-a-copy\n",
            "  import sys\n"
          ],
          "name": "stderr"
        }
      ]
    },
    {
      "cell_type": "code",
      "metadata": {
        "colab": {
          "base_uri": "https://localhost:8080/",
          "height": 630
        },
        "id": "tsMbpTMjtV8A",
        "outputId": "940ce69d-43eb-4241-a42e-1e8cbdbf5a5e"
      },
      "source": [
        "alaska_df"
      ],
      "execution_count": null,
      "outputs": [
        {
          "output_type": "execute_result",
          "data": {
            "text/html": [
              "<div>\n",
              "<style scoped>\n",
              "    .dataframe tbody tr th:only-of-type {\n",
              "        vertical-align: middle;\n",
              "    }\n",
              "\n",
              "    .dataframe tbody tr th {\n",
              "        vertical-align: top;\n",
              "    }\n",
              "\n",
              "    .dataframe thead th {\n",
              "        text-align: right;\n",
              "    }\n",
              "</style>\n",
              "<table border=\"1\" class=\"dataframe\">\n",
              "  <thead>\n",
              "    <tr style=\"text-align: right;\">\n",
              "      <th></th>\n",
              "      <th>maxtempC</th>\n",
              "      <th>mintempC</th>\n",
              "      <th>totalSnow_cm</th>\n",
              "      <th>sunHour</th>\n",
              "      <th>uvIndex</th>\n",
              "      <th>moon_illumination</th>\n",
              "      <th>moonrise</th>\n",
              "      <th>moonset</th>\n",
              "      <th>sunrise</th>\n",
              "      <th>sunset</th>\n",
              "      <th>DewPointC</th>\n",
              "      <th>FeelsLikeC</th>\n",
              "      <th>HeatIndexC</th>\n",
              "      <th>WindChillC</th>\n",
              "      <th>WindGustKmph</th>\n",
              "      <th>cloudcover</th>\n",
              "      <th>humidity</th>\n",
              "      <th>precipMM</th>\n",
              "      <th>pressure</th>\n",
              "      <th>tempC</th>\n",
              "      <th>visibility</th>\n",
              "      <th>winddirDegree</th>\n",
              "      <th>windspeedKmph</th>\n",
              "      <th>location</th>\n",
              "      <th>hour</th>\n",
              "      <th>day</th>\n",
              "      <th>month</th>\n",
              "      <th>year</th>\n",
              "    </tr>\n",
              "    <tr>\n",
              "      <th>date_time</th>\n",
              "      <th></th>\n",
              "      <th></th>\n",
              "      <th></th>\n",
              "      <th></th>\n",
              "      <th></th>\n",
              "      <th></th>\n",
              "      <th></th>\n",
              "      <th></th>\n",
              "      <th></th>\n",
              "      <th></th>\n",
              "      <th></th>\n",
              "      <th></th>\n",
              "      <th></th>\n",
              "      <th></th>\n",
              "      <th></th>\n",
              "      <th></th>\n",
              "      <th></th>\n",
              "      <th></th>\n",
              "      <th></th>\n",
              "      <th></th>\n",
              "      <th></th>\n",
              "      <th></th>\n",
              "      <th></th>\n",
              "      <th></th>\n",
              "      <th></th>\n",
              "      <th></th>\n",
              "      <th></th>\n",
              "      <th></th>\n",
              "    </tr>\n",
              "  </thead>\n",
              "  <tbody>\n",
              "    <tr>\n",
              "      <th>2008-07-01 00:00:00</th>\n",
              "      <td>15</td>\n",
              "      <td>9</td>\n",
              "      <td>0.0</td>\n",
              "      <td>-2.7</td>\n",
              "      <td>3</td>\n",
              "      <td>4</td>\n",
              "      <td>12:00 AM</td>\n",
              "      <td>12:00 AM</td>\n",
              "      <td>03:12 AM</td>\n",
              "      <td>12:39 AM</td>\n",
              "      <td>9</td>\n",
              "      <td>8</td>\n",
              "      <td>9</td>\n",
              "      <td>8</td>\n",
              "      <td>13</td>\n",
              "      <td>90</td>\n",
              "      <td>98</td>\n",
              "      <td>1.0</td>\n",
              "      <td>1017</td>\n",
              "      <td>9</td>\n",
              "      <td>9</td>\n",
              "      <td>248</td>\n",
              "      <td>8</td>\n",
              "      <td>99709</td>\n",
              "      <td>0</td>\n",
              "      <td>1</td>\n",
              "      <td>7</td>\n",
              "      <td>2008</td>\n",
              "    </tr>\n",
              "    <tr>\n",
              "      <th>2008-07-01 03:00:00</th>\n",
              "      <td>15</td>\n",
              "      <td>9</td>\n",
              "      <td>0.0</td>\n",
              "      <td>-2.7</td>\n",
              "      <td>3</td>\n",
              "      <td>4</td>\n",
              "      <td>12:00 AM</td>\n",
              "      <td>12:00 AM</td>\n",
              "      <td>03:12 AM</td>\n",
              "      <td>12:39 AM</td>\n",
              "      <td>8</td>\n",
              "      <td>7</td>\n",
              "      <td>9</td>\n",
              "      <td>7</td>\n",
              "      <td>12</td>\n",
              "      <td>100</td>\n",
              "      <td>97</td>\n",
              "      <td>1.4</td>\n",
              "      <td>1017</td>\n",
              "      <td>9</td>\n",
              "      <td>9</td>\n",
              "      <td>231</td>\n",
              "      <td>8</td>\n",
              "      <td>99709</td>\n",
              "      <td>3</td>\n",
              "      <td>1</td>\n",
              "      <td>7</td>\n",
              "      <td>2008</td>\n",
              "    </tr>\n",
              "    <tr>\n",
              "      <th>2008-07-01 06:00:00</th>\n",
              "      <td>15</td>\n",
              "      <td>9</td>\n",
              "      <td>0.0</td>\n",
              "      <td>-2.7</td>\n",
              "      <td>3</td>\n",
              "      <td>4</td>\n",
              "      <td>12:00 AM</td>\n",
              "      <td>12:00 AM</td>\n",
              "      <td>03:12 AM</td>\n",
              "      <td>12:39 AM</td>\n",
              "      <td>8</td>\n",
              "      <td>8</td>\n",
              "      <td>9</td>\n",
              "      <td>8</td>\n",
              "      <td>16</td>\n",
              "      <td>84</td>\n",
              "      <td>94</td>\n",
              "      <td>0.5</td>\n",
              "      <td>1016</td>\n",
              "      <td>9</td>\n",
              "      <td>2</td>\n",
              "      <td>237</td>\n",
              "      <td>10</td>\n",
              "      <td>99709</td>\n",
              "      <td>6</td>\n",
              "      <td>1</td>\n",
              "      <td>7</td>\n",
              "      <td>2008</td>\n",
              "    </tr>\n",
              "    <tr>\n",
              "      <th>2008-07-01 09:00:00</th>\n",
              "      <td>15</td>\n",
              "      <td>9</td>\n",
              "      <td>0.0</td>\n",
              "      <td>-2.7</td>\n",
              "      <td>3</td>\n",
              "      <td>4</td>\n",
              "      <td>12:00 AM</td>\n",
              "      <td>12:00 AM</td>\n",
              "      <td>03:12 AM</td>\n",
              "      <td>12:39 AM</td>\n",
              "      <td>8</td>\n",
              "      <td>9</td>\n",
              "      <td>10</td>\n",
              "      <td>9</td>\n",
              "      <td>15</td>\n",
              "      <td>100</td>\n",
              "      <td>88</td>\n",
              "      <td>1.2</td>\n",
              "      <td>1015</td>\n",
              "      <td>10</td>\n",
              "      <td>9</td>\n",
              "      <td>239</td>\n",
              "      <td>11</td>\n",
              "      <td>99709</td>\n",
              "      <td>9</td>\n",
              "      <td>1</td>\n",
              "      <td>7</td>\n",
              "      <td>2008</td>\n",
              "    </tr>\n",
              "    <tr>\n",
              "      <th>2008-07-01 12:00:00</th>\n",
              "      <td>15</td>\n",
              "      <td>9</td>\n",
              "      <td>0.0</td>\n",
              "      <td>-2.7</td>\n",
              "      <td>3</td>\n",
              "      <td>4</td>\n",
              "      <td>12:00 AM</td>\n",
              "      <td>12:00 AM</td>\n",
              "      <td>03:12 AM</td>\n",
              "      <td>12:39 AM</td>\n",
              "      <td>7</td>\n",
              "      <td>7</td>\n",
              "      <td>9</td>\n",
              "      <td>7</td>\n",
              "      <td>16</td>\n",
              "      <td>94</td>\n",
              "      <td>89</td>\n",
              "      <td>0.3</td>\n",
              "      <td>1015</td>\n",
              "      <td>9</td>\n",
              "      <td>2</td>\n",
              "      <td>241</td>\n",
              "      <td>12</td>\n",
              "      <td>99709</td>\n",
              "      <td>12</td>\n",
              "      <td>1</td>\n",
              "      <td>7</td>\n",
              "      <td>2008</td>\n",
              "    </tr>\n",
              "    <tr>\n",
              "      <th>...</th>\n",
              "      <td>...</td>\n",
              "      <td>...</td>\n",
              "      <td>...</td>\n",
              "      <td>...</td>\n",
              "      <td>...</td>\n",
              "      <td>...</td>\n",
              "      <td>...</td>\n",
              "      <td>...</td>\n",
              "      <td>...</td>\n",
              "      <td>...</td>\n",
              "      <td>...</td>\n",
              "      <td>...</td>\n",
              "      <td>...</td>\n",
              "      <td>...</td>\n",
              "      <td>...</td>\n",
              "      <td>...</td>\n",
              "      <td>...</td>\n",
              "      <td>...</td>\n",
              "      <td>...</td>\n",
              "      <td>...</td>\n",
              "      <td>...</td>\n",
              "      <td>...</td>\n",
              "      <td>...</td>\n",
              "      <td>...</td>\n",
              "      <td>...</td>\n",
              "      <td>...</td>\n",
              "      <td>...</td>\n",
              "      <td>...</td>\n",
              "    </tr>\n",
              "    <tr>\n",
              "      <th>2020-12-31 09:00:00</th>\n",
              "      <td>-18</td>\n",
              "      <td>-26</td>\n",
              "      <td>0.0</td>\n",
              "      <td>1.0</td>\n",
              "      <td>2</td>\n",
              "      <td>89</td>\n",
              "      <td>05:21 PM</td>\n",
              "      <td>01:48 PM</td>\n",
              "      <td>11:56 AM</td>\n",
              "      <td>03:54 PM</td>\n",
              "      <td>-20</td>\n",
              "      <td>-19</td>\n",
              "      <td>-19</td>\n",
              "      <td>-19</td>\n",
              "      <td>6</td>\n",
              "      <td>68</td>\n",
              "      <td>95</td>\n",
              "      <td>0.0</td>\n",
              "      <td>1016</td>\n",
              "      <td>-19</td>\n",
              "      <td>2</td>\n",
              "      <td>117</td>\n",
              "      <td>3</td>\n",
              "      <td>99709</td>\n",
              "      <td>9</td>\n",
              "      <td>31</td>\n",
              "      <td>12</td>\n",
              "      <td>2020</td>\n",
              "    </tr>\n",
              "    <tr>\n",
              "      <th>2020-12-31 12:00:00</th>\n",
              "      <td>-18</td>\n",
              "      <td>-26</td>\n",
              "      <td>0.0</td>\n",
              "      <td>1.0</td>\n",
              "      <td>2</td>\n",
              "      <td>89</td>\n",
              "      <td>05:21 PM</td>\n",
              "      <td>01:48 PM</td>\n",
              "      <td>11:56 AM</td>\n",
              "      <td>03:54 PM</td>\n",
              "      <td>-20</td>\n",
              "      <td>-21</td>\n",
              "      <td>-19</td>\n",
              "      <td>-21</td>\n",
              "      <td>7</td>\n",
              "      <td>78</td>\n",
              "      <td>95</td>\n",
              "      <td>0.0</td>\n",
              "      <td>1016</td>\n",
              "      <td>-19</td>\n",
              "      <td>2</td>\n",
              "      <td>236</td>\n",
              "      <td>3</td>\n",
              "      <td>99709</td>\n",
              "      <td>12</td>\n",
              "      <td>31</td>\n",
              "      <td>12</td>\n",
              "      <td>2020</td>\n",
              "    </tr>\n",
              "    <tr>\n",
              "      <th>2020-12-31 15:00:00</th>\n",
              "      <td>-18</td>\n",
              "      <td>-26</td>\n",
              "      <td>0.0</td>\n",
              "      <td>1.0</td>\n",
              "      <td>2</td>\n",
              "      <td>89</td>\n",
              "      <td>05:21 PM</td>\n",
              "      <td>01:48 PM</td>\n",
              "      <td>11:56 AM</td>\n",
              "      <td>03:54 PM</td>\n",
              "      <td>-20</td>\n",
              "      <td>-23</td>\n",
              "      <td>-20</td>\n",
              "      <td>-23</td>\n",
              "      <td>8</td>\n",
              "      <td>69</td>\n",
              "      <td>95</td>\n",
              "      <td>0.0</td>\n",
              "      <td>1015</td>\n",
              "      <td>-20</td>\n",
              "      <td>2</td>\n",
              "      <td>119</td>\n",
              "      <td>4</td>\n",
              "      <td>99709</td>\n",
              "      <td>15</td>\n",
              "      <td>31</td>\n",
              "      <td>12</td>\n",
              "      <td>2020</td>\n",
              "    </tr>\n",
              "    <tr>\n",
              "      <th>2020-12-31 18:00:00</th>\n",
              "      <td>-18</td>\n",
              "      <td>-26</td>\n",
              "      <td>0.0</td>\n",
              "      <td>1.0</td>\n",
              "      <td>2</td>\n",
              "      <td>89</td>\n",
              "      <td>05:21 PM</td>\n",
              "      <td>01:48 PM</td>\n",
              "      <td>11:56 AM</td>\n",
              "      <td>03:54 PM</td>\n",
              "      <td>-20</td>\n",
              "      <td>-23</td>\n",
              "      <td>-20</td>\n",
              "      <td>-23</td>\n",
              "      <td>10</td>\n",
              "      <td>60</td>\n",
              "      <td>95</td>\n",
              "      <td>0.0</td>\n",
              "      <td>1014</td>\n",
              "      <td>-22</td>\n",
              "      <td>2</td>\n",
              "      <td>0</td>\n",
              "      <td>5</td>\n",
              "      <td>99709</td>\n",
              "      <td>18</td>\n",
              "      <td>31</td>\n",
              "      <td>12</td>\n",
              "      <td>2020</td>\n",
              "    </tr>\n",
              "    <tr>\n",
              "      <th>2020-12-31 21:00:00</th>\n",
              "      <td>-18</td>\n",
              "      <td>-26</td>\n",
              "      <td>0.0</td>\n",
              "      <td>1.0</td>\n",
              "      <td>2</td>\n",
              "      <td>89</td>\n",
              "      <td>05:21 PM</td>\n",
              "      <td>01:48 PM</td>\n",
              "      <td>11:56 AM</td>\n",
              "      <td>03:54 PM</td>\n",
              "      <td>-20</td>\n",
              "      <td>-26</td>\n",
              "      <td>-24</td>\n",
              "      <td>-26</td>\n",
              "      <td>12</td>\n",
              "      <td>63</td>\n",
              "      <td>95</td>\n",
              "      <td>0.0</td>\n",
              "      <td>1013</td>\n",
              "      <td>-26</td>\n",
              "      <td>2</td>\n",
              "      <td>0</td>\n",
              "      <td>5</td>\n",
              "      <td>99709</td>\n",
              "      <td>21</td>\n",
              "      <td>31</td>\n",
              "      <td>12</td>\n",
              "      <td>2020</td>\n",
              "    </tr>\n",
              "  </tbody>\n",
              "</table>\n",
              "<p>36536 rows × 28 columns</p>\n",
              "</div>"
            ],
            "text/plain": [
              "                     maxtempC  mintempC  totalSnow_cm  ...  day  month  year\n",
              "date_time                                              ...                  \n",
              "2008-07-01 00:00:00        15         9           0.0  ...    1      7  2008\n",
              "2008-07-01 03:00:00        15         9           0.0  ...    1      7  2008\n",
              "2008-07-01 06:00:00        15         9           0.0  ...    1      7  2008\n",
              "2008-07-01 09:00:00        15         9           0.0  ...    1      7  2008\n",
              "2008-07-01 12:00:00        15         9           0.0  ...    1      7  2008\n",
              "...                       ...       ...           ...  ...  ...    ...   ...\n",
              "2020-12-31 09:00:00       -18       -26           0.0  ...   31     12  2020\n",
              "2020-12-31 12:00:00       -18       -26           0.0  ...   31     12  2020\n",
              "2020-12-31 15:00:00       -18       -26           0.0  ...   31     12  2020\n",
              "2020-12-31 18:00:00       -18       -26           0.0  ...   31     12  2020\n",
              "2020-12-31 21:00:00       -18       -26           0.0  ...   31     12  2020\n",
              "\n",
              "[36536 rows x 28 columns]"
            ]
          },
          "metadata": {
            "tags": []
          },
          "execution_count": 88
        }
      ]
    },
    {
      "cell_type": "code",
      "metadata": {
        "colab": {
          "base_uri": "https://localhost:8080/",
          "height": 625
        },
        "id": "7GwB_Cr9tXKy",
        "outputId": "228f4493-18e8-41ca-ced1-ec5069aea64b"
      },
      "source": [
        "plt.figure(figsize=(12,10 ))\n",
        "sns.heatmap(alaska_df.groupby(['year','month']).sum()['totalSnow_cm'].unstack(level=-1).fillna(0), cmap='viridis')"
      ],
      "execution_count": null,
      "outputs": [
        {
          "output_type": "execute_result",
          "data": {
            "text/plain": [
              "<matplotlib.axes._subplots.AxesSubplot at 0x7f39e9db9350>"
            ]
          },
          "metadata": {
            "tags": []
          },
          "execution_count": 104
        },
        {
          "output_type": "display_data",
          "data": {
            "image/png": "[encoded data removed]",
            "text/plain": [
              "<Figure size 864x720 with 2 Axes>"
            ]
          },
          "metadata": {
            "tags": [],
            "needs_background": "light"
          }
        }
      ]
    },
    {
      "cell_type": "code",
      "metadata": {
        "colab": {
          "base_uri": "https://localhost:8080/",
          "height": 610
        },
        "id": "qBsaIT7auZuO",
        "outputId": "8edfaaab-0234-4614-98f4-8655ff8cb7ff"
      },
      "source": [
        "plt.figure(figsize=(12,10 ))\n",
        "plt.plot(alaska_df.groupby(['year','month']).sum()['totalSnow_cm'].unstack(level=-1).fillna(0).describe().loc['mean'])"
      ],
      "execution_count": null,
      "outputs": [
        {
          "output_type": "execute_result",
          "data": {
            "text/plain": [
              "[<matplotlib.lines.Line2D at 0x7f39e9d0f450>]"
            ]
          },
          "metadata": {
            "tags": []
          },
          "execution_count": 105
        },
        {
          "output_type": "display_data",
          "data": {
            "image/png": "[encoded data removed]",
            "text/plain": [
              "<Figure size 864x720 with 1 Axes>"
            ]
          },
          "metadata": {
            "tags": [],
            "needs_background": "light"
          }
        }
      ]
    },
    {
      "cell_type": "code",
      "metadata": {
        "colab": {
          "base_uri": "https://localhost:8080/",
          "height": 592
        },
        "id": "WMnEd0hzufRx",
        "outputId": "ce96a569-ce92-40ed-ddea-7d04e745db00"
      },
      "source": [
        "plt.figure(figsize=(12,10 ))\n",
        "\n",
        "for i in range(0,13,4):\n",
        "  plt.plot(alaska_df.groupby(['year','month']).sum()['totalSnow_cm'].unstack(level=-1).fillna(0).iloc[i], label=(2008+i))\n",
        "  plt.legend(loc=\"upper left\")\n"
      ],
      "execution_count": null,
      "outputs": [
        {
          "output_type": "display_data",
          "data": {
            "image/png": "[encoded data removed]",
            "text/plain": [
              "<Figure size 864x720 with 1 Axes>"
            ]
          },
          "metadata": {
            "tags": [],
            "needs_background": "light"
          }
        }
      ]
    },
    {
      "cell_type": "code",
      "metadata": {
        "colab": {
          "base_uri": "https://localhost:8080/",
          "height": 468
        },
        "id": "9BTxPyyPtmVL",
        "outputId": "3b4a645b-c8d6-4461-a231-903ed5436f66"
      },
      "source": [
        "alaska_df.groupby(['year','month']).sum()['totalSnow_cm'].unstack(level=-1)"
      ],
      "execution_count": null,
      "outputs": [
        {
          "output_type": "execute_result",
          "data": {
            "text/html": [
              "<div>\n",
              "<style scoped>\n",
              "    .dataframe tbody tr th:only-of-type {\n",
              "        vertical-align: middle;\n",
              "    }\n",
              "\n",
              "    .dataframe tbody tr th {\n",
              "        vertical-align: top;\n",
              "    }\n",
              "\n",
              "    .dataframe thead th {\n",
              "        text-align: right;\n",
              "    }\n",
              "</style>\n",
              "<table border=\"1\" class=\"dataframe\">\n",
              "  <thead>\n",
              "    <tr style=\"text-align: right;\">\n",
              "      <th>month</th>\n",
              "      <th>1</th>\n",
              "      <th>2</th>\n",
              "      <th>3</th>\n",
              "      <th>4</th>\n",
              "      <th>5</th>\n",
              "      <th>6</th>\n",
              "      <th>7</th>\n",
              "      <th>8</th>\n",
              "      <th>9</th>\n",
              "      <th>10</th>\n",
              "      <th>11</th>\n",
              "      <th>12</th>\n",
              "    </tr>\n",
              "    <tr>\n",
              "      <th>year</th>\n",
              "      <th></th>\n",
              "      <th></th>\n",
              "      <th></th>\n",
              "      <th></th>\n",
              "      <th></th>\n",
              "      <th></th>\n",
              "      <th></th>\n",
              "      <th></th>\n",
              "      <th></th>\n",
              "      <th></th>\n",
              "      <th></th>\n",
              "      <th></th>\n",
              "    </tr>\n",
              "  </thead>\n",
              "  <tbody>\n",
              "    <tr>\n",
              "      <th>2008</th>\n",
              "      <td>NaN</td>\n",
              "      <td>NaN</td>\n",
              "      <td>NaN</td>\n",
              "      <td>NaN</td>\n",
              "      <td>NaN</td>\n",
              "      <td>NaN</td>\n",
              "      <td>0.0</td>\n",
              "      <td>0.0</td>\n",
              "      <td>21.6</td>\n",
              "      <td>188.0</td>\n",
              "      <td>64.8</td>\n",
              "      <td>136.0</td>\n",
              "    </tr>\n",
              "    <tr>\n",
              "      <th>2009</th>\n",
              "      <td>98.4</td>\n",
              "      <td>176.8</td>\n",
              "      <td>256.0</td>\n",
              "      <td>119.2</td>\n",
              "      <td>4.8</td>\n",
              "      <td>0.0</td>\n",
              "      <td>0.0</td>\n",
              "      <td>0.0</td>\n",
              "      <td>72.0</td>\n",
              "      <td>60.8</td>\n",
              "      <td>73.6</td>\n",
              "      <td>82.4</td>\n",
              "    </tr>\n",
              "    <tr>\n",
              "      <th>2010</th>\n",
              "      <td>32.8</td>\n",
              "      <td>40.0</td>\n",
              "      <td>106.4</td>\n",
              "      <td>87.2</td>\n",
              "      <td>0.0</td>\n",
              "      <td>0.0</td>\n",
              "      <td>0.0</td>\n",
              "      <td>0.0</td>\n",
              "      <td>3.2</td>\n",
              "      <td>68.8</td>\n",
              "      <td>368.0</td>\n",
              "      <td>113.6</td>\n",
              "    </tr>\n",
              "    <tr>\n",
              "      <th>2011</th>\n",
              "      <td>79.2</td>\n",
              "      <td>308.8</td>\n",
              "      <td>58.4</td>\n",
              "      <td>124.8</td>\n",
              "      <td>3.2</td>\n",
              "      <td>0.0</td>\n",
              "      <td>0.0</td>\n",
              "      <td>0.0</td>\n",
              "      <td>0.0</td>\n",
              "      <td>114.4</td>\n",
              "      <td>200.8</td>\n",
              "      <td>310.4</td>\n",
              "    </tr>\n",
              "    <tr>\n",
              "      <th>2012</th>\n",
              "      <td>186.4</td>\n",
              "      <td>128.0</td>\n",
              "      <td>161.6</td>\n",
              "      <td>11.2</td>\n",
              "      <td>11.2</td>\n",
              "      <td>0.0</td>\n",
              "      <td>0.0</td>\n",
              "      <td>0.0</td>\n",
              "      <td>0.0</td>\n",
              "      <td>64.0</td>\n",
              "      <td>57.6</td>\n",
              "      <td>204.0</td>\n",
              "    </tr>\n",
              "    <tr>\n",
              "      <th>2013</th>\n",
              "      <td>167.2</td>\n",
              "      <td>141.6</td>\n",
              "      <td>129.6</td>\n",
              "      <td>300.0</td>\n",
              "      <td>162.4</td>\n",
              "      <td>0.0</td>\n",
              "      <td>0.0</td>\n",
              "      <td>0.0</td>\n",
              "      <td>11.2</td>\n",
              "      <td>78.4</td>\n",
              "      <td>389.6</td>\n",
              "      <td>160.8</td>\n",
              "    </tr>\n",
              "    <tr>\n",
              "      <th>2014</th>\n",
              "      <td>73.6</td>\n",
              "      <td>64.0</td>\n",
              "      <td>80.8</td>\n",
              "      <td>66.4</td>\n",
              "      <td>0.8</td>\n",
              "      <td>0.0</td>\n",
              "      <td>0.0</td>\n",
              "      <td>0.0</td>\n",
              "      <td>40.8</td>\n",
              "      <td>135.2</td>\n",
              "      <td>23.2</td>\n",
              "      <td>52.8</td>\n",
              "    </tr>\n",
              "    <tr>\n",
              "      <th>2015</th>\n",
              "      <td>61.6</td>\n",
              "      <td>60.8</td>\n",
              "      <td>196.0</td>\n",
              "      <td>256.8</td>\n",
              "      <td>0.0</td>\n",
              "      <td>0.0</td>\n",
              "      <td>0.0</td>\n",
              "      <td>2.4</td>\n",
              "      <td>387.2</td>\n",
              "      <td>40.8</td>\n",
              "      <td>524.8</td>\n",
              "      <td>38.4</td>\n",
              "    </tr>\n",
              "    <tr>\n",
              "      <th>2016</th>\n",
              "      <td>15.2</td>\n",
              "      <td>8.8</td>\n",
              "      <td>193.6</td>\n",
              "      <td>34.4</td>\n",
              "      <td>0.0</td>\n",
              "      <td>0.0</td>\n",
              "      <td>0.0</td>\n",
              "      <td>0.0</td>\n",
              "      <td>2.4</td>\n",
              "      <td>11.2</td>\n",
              "      <td>56.0</td>\n",
              "      <td>335.2</td>\n",
              "    </tr>\n",
              "    <tr>\n",
              "      <th>2017</th>\n",
              "      <td>264.0</td>\n",
              "      <td>309.6</td>\n",
              "      <td>76.8</td>\n",
              "      <td>84.0</td>\n",
              "      <td>0.0</td>\n",
              "      <td>0.0</td>\n",
              "      <td>0.0</td>\n",
              "      <td>0.0</td>\n",
              "      <td>2.4</td>\n",
              "      <td>112.8</td>\n",
              "      <td>420.0</td>\n",
              "      <td>181.6</td>\n",
              "    </tr>\n",
              "    <tr>\n",
              "      <th>2018</th>\n",
              "      <td>91.2</td>\n",
              "      <td>436.0</td>\n",
              "      <td>197.6</td>\n",
              "      <td>80.8</td>\n",
              "      <td>68.0</td>\n",
              "      <td>0.0</td>\n",
              "      <td>0.0</td>\n",
              "      <td>0.0</td>\n",
              "      <td>0.0</td>\n",
              "      <td>36.8</td>\n",
              "      <td>398.4</td>\n",
              "      <td>208.8</td>\n",
              "    </tr>\n",
              "    <tr>\n",
              "      <th>2019</th>\n",
              "      <td>160.0</td>\n",
              "      <td>214.4</td>\n",
              "      <td>56.0</td>\n",
              "      <td>181.6</td>\n",
              "      <td>11.2</td>\n",
              "      <td>0.0</td>\n",
              "      <td>0.0</td>\n",
              "      <td>0.0</td>\n",
              "      <td>1.6</td>\n",
              "      <td>236.8</td>\n",
              "      <td>373.6</td>\n",
              "      <td>149.6</td>\n",
              "    </tr>\n",
              "    <tr>\n",
              "      <th>2020</th>\n",
              "      <td>93.6</td>\n",
              "      <td>92.8</td>\n",
              "      <td>408.8</td>\n",
              "      <td>145.6</td>\n",
              "      <td>0.0</td>\n",
              "      <td>0.0</td>\n",
              "      <td>0.0</td>\n",
              "      <td>0.0</td>\n",
              "      <td>0.0</td>\n",
              "      <td>164.8</td>\n",
              "      <td>270.4</td>\n",
              "      <td>113.6</td>\n",
              "    </tr>\n",
              "  </tbody>\n",
              "</table>\n",
              "</div>"
            ],
            "text/plain": [
              "month     1      2      3      4      5   ...   8      9      10     11     12\n",
              "year                                      ...                                 \n",
              "2008     NaN    NaN    NaN    NaN    NaN  ...  0.0   21.6  188.0   64.8  136.0\n",
              "2009    98.4  176.8  256.0  119.2    4.8  ...  0.0   72.0   60.8   73.6   82.4\n",
              "2010    32.8   40.0  106.4   87.2    0.0  ...  0.0    3.2   68.8  368.0  113.6\n",
              "2011    79.2  308.8   58.4  124.8    3.2  ...  0.0    0.0  114.4  200.8  310.4\n",
              "2012   186.4  128.0  161.6   11.2   11.2  ...  0.0    0.0   64.0   57.6  204.0\n",
              "2013   167.2  141.6  129.6  300.0  162.4  ...  0.0   11.2   78.4  389.6  160.8\n",
              "2014    73.6   64.0   80.8   66.4    0.8  ...  0.0   40.8  135.2   23.2   52.8\n",
              "2015    61.6   60.8  196.0  256.8    0.0  ...  2.4  387.2   40.8  524.8   38.4\n",
              "2016    15.2    8.8  193.6   34.4    0.0  ...  0.0    2.4   11.2   56.0  335.2\n",
              "2017   264.0  309.6   76.8   84.0    0.0  ...  0.0    2.4  112.8  420.0  181.6\n",
              "2018    91.2  436.0  197.6   80.8   68.0  ...  0.0    0.0   36.8  398.4  208.8\n",
              "2019   160.0  214.4   56.0  181.6   11.2  ...  0.0    1.6  236.8  373.6  149.6\n",
              "2020    93.6   92.8  408.8  145.6    0.0  ...  0.0    0.0  164.8  270.4  113.6\n",
              "\n",
              "[13 rows x 12 columns]"
            ]
          },
          "metadata": {
            "tags": []
          },
          "execution_count": 118
        }
      ]
    },
    {
      "cell_type": "code",
      "metadata": {
        "colab": {
          "base_uri": "https://localhost:8080/"
        },
        "id": "1Ru4K0ONzBwW",
        "outputId": "deee908f-07b3-4058-f2e4-38a68a1e2a57"
      },
      "source": [
        "import tensorflow as tf\n",
        "from tensorflow import keras\n",
        "\n",
        "time_steps = 120\n",
        "\n",
        "### LSTM parameters\n",
        "lstm_units= 256\n",
        "lstm_dropout=0.4\n",
        "learning_rate=0.0001\n",
        "stop_patience=15\n",
        "max_epocs=500\n",
        "lstm_batch_size=64\n",
        "\n",
        "\n",
        "forcing_train,forcing_val,forcing_test=train_test_split(alaska_df,0.6,0.2,0.2)\n",
        "\n",
        "### normalize data\n",
        "forcing_mean = forcing_train.mean()\n",
        "forcing_std = forcing_train.std()\n",
        "\n",
        "forcing_train = (forcing_train - forcing_mean) / forcing_std\n",
        "forcing_val = (forcing_val - forcing_mean) / forcing_std\n",
        "forcing_test = (forcing_test - forcing_mean) / forcing_std\n",
        "\n",
        "### create sequences of data\n",
        "x_train, y_train = m_create_dataset(forcing_train[['cloudcover','totalSnow_cm']] ,forcing_train['totalSnow_cm'], time_steps)\n",
        "print(x_train.shape, y_train.shape)\n",
        "\n",
        "x_val, y_val = m_create_dataset(forcing_val[['cloudcover','totalSnow_cm']] , forcing_val['totalSnow_cm'], time_steps)\n",
        "print(x_val.shape, y_val.shape)\n",
        "\n",
        "x_test, y_test = m_create_dataset(forcing_test[['cloudcover','totalSnow_cm']] , forcing_test['totalSnow_cm'], time_steps)\n",
        "print(x_test.shape, y_test.shape)\n",
        "\n",
        "### build model and training\n",
        "lstm_model = tf.keras.models.Sequential([\n",
        "    tf.keras.layers.Bidirectional(tf.keras.layers.LSTM(lstm_units)),\n",
        "    tf.keras.layers.Dropout(rate=lstm_dropout),\n",
        "    tf.keras.layers.Dense(4, kernel_initializer=tf.initializers.zeros()),\n",
        "        tf.keras.layers.Reshape([4, 1])\n",
        "])\n",
        "\n",
        "customAdam = keras.optimizers.Adam(lr=learning_rate)   \n",
        "early_stopping = tf.keras.callbacks.EarlyStopping(monitor='val_loss',\n",
        "                                                    patience=stop_patience,\n",
        "                                                    mode='min')\n",
        "\n",
        "lstm_model.compile(loss=tf.losses.MeanSquaredError(),\n",
        "            optimizer=customAdam,\n",
        "            metrics=[tf.metrics.RootMeanSquaredError()])\n",
        "\n",
        "history = lstm_model.fit(x_train, y_train ,epochs=max_epocs,\n",
        "                  batch_size=lstm_batch_size,\n",
        "                  validation_data=(x_val,y_val), \n",
        "                  callbacks=[early_stopping],shuffle=True)\n",
        "\n",
        "\n",
        "### Evaluate the model\n",
        "\n",
        "val_performance= lstm_model.evaluate(x_val, y_val) \n",
        "performance= lstm_model.evaluate(x_test, y_test) \n",
        "print(performance)\n",
        "\n"
      ],
      "execution_count": null,
      "outputs": [
        {
          "output_type": "stream",
          "text": [
            "(21797, 120, 2) (21797, 4)\n",
            "(7183, 120, 2) (7183, 4)\n",
            "(7184, 120, 2) (7184, 4)\n",
            "Epoch 1/500\n"
          ],
          "name": "stdout"
        },
        {
          "output_type": "stream",
          "text": [
            "/usr/local/lib/python3.7/dist-packages/tensorflow/python/keras/optimizer_v2/optimizer_v2.py:375: UserWarning: The `lr` argument is deprecated, use `learning_rate` instead.\n",
            "  \"The `lr` argument is deprecated, use `learning_rate` instead.\")\n"
          ],
          "name": "stderr"
        },
        {
          "output_type": "stream",
          "text": [
            "341/341 [==============================] - 11s 23ms/step - loss: 0.7719 - root_mean_squared_error: 0.8786 - val_loss: 0.6798 - val_root_mean_squared_error: 0.8245\n",
            "Epoch 2/500\n",
            "341/341 [==============================] - 7s 22ms/step - loss: 0.5474 - root_mean_squared_error: 0.7399 - val_loss: 0.5069 - val_root_mean_squared_error: 0.7120\n",
            "Epoch 3/500\n",
            "341/341 [==============================] - 7s 22ms/step - loss: 0.4612 - root_mean_squared_error: 0.6791 - val_loss: 0.4703 - val_root_mean_squared_error: 0.6857\n",
            "Epoch 4/500\n",
            "341/341 [==============================] - 8s 22ms/step - loss: 0.4321 - root_mean_squared_error: 0.6573 - val_loss: 0.4426 - val_root_mean_squared_error: 0.6653\n",
            "Epoch 5/500\n",
            "341/341 [==============================] - 8s 22ms/step - loss: 0.4120 - root_mean_squared_error: 0.6418 - val_loss: 0.4240 - val_root_mean_squared_error: 0.6512\n",
            "Epoch 6/500\n",
            "341/341 [==============================] - 8s 22ms/step - loss: 0.3966 - root_mean_squared_error: 0.6298 - val_loss: 0.4111 - val_root_mean_squared_error: 0.6412\n",
            "Epoch 7/500\n",
            "341/341 [==============================] - 8s 22ms/step - loss: 0.3867 - root_mean_squared_error: 0.6218 - val_loss: 0.3983 - val_root_mean_squared_error: 0.6311\n",
            "Epoch 8/500\n",
            "341/341 [==============================] - 7s 22ms/step - loss: 0.3781 - root_mean_squared_error: 0.6149 - val_loss: 0.4122 - val_root_mean_squared_error: 0.6420\n",
            "Epoch 9/500\n",
            "341/341 [==============================] - 7s 22ms/step - loss: 0.3682 - root_mean_squared_error: 0.6068 - val_loss: 0.3949 - val_root_mean_squared_error: 0.6284\n",
            "Epoch 10/500\n",
            "341/341 [==============================] - 7s 22ms/step - loss: 0.3654 - root_mean_squared_error: 0.6045 - val_loss: 0.3850 - val_root_mean_squared_error: 0.6205\n",
            "Epoch 11/500\n",
            "341/341 [==============================] - 7s 22ms/step - loss: 0.3568 - root_mean_squared_error: 0.5973 - val_loss: 0.3977 - val_root_mean_squared_error: 0.6307\n",
            "Epoch 12/500\n",
            "341/341 [==============================] - 7s 22ms/step - loss: 0.3529 - root_mean_squared_error: 0.5940 - val_loss: 0.3816 - val_root_mean_squared_error: 0.6177\n",
            "Epoch 13/500\n",
            "341/341 [==============================] - 7s 22ms/step - loss: 0.3430 - root_mean_squared_error: 0.5857 - val_loss: 0.3853 - val_root_mean_squared_error: 0.6207\n",
            "Epoch 14/500\n",
            "341/341 [==============================] - 7s 22ms/step - loss: 0.3403 - root_mean_squared_error: 0.5834 - val_loss: 0.3798 - val_root_mean_squared_error: 0.6163\n",
            "Epoch 15/500\n",
            "341/341 [==============================] - 7s 22ms/step - loss: 0.3342 - root_mean_squared_error: 0.5781 - val_loss: 0.3906 - val_root_mean_squared_error: 0.6250\n",
            "Epoch 16/500\n",
            "341/341 [==============================] - 7s 22ms/step - loss: 0.3272 - root_mean_squared_error: 0.5720 - val_loss: 0.3821 - val_root_mean_squared_error: 0.6181\n",
            "Epoch 17/500\n",
            "341/341 [==============================] - 7s 22ms/step - loss: 0.3263 - root_mean_squared_error: 0.5712 - val_loss: 0.3833 - val_root_mean_squared_error: 0.6191\n",
            "Epoch 18/500\n",
            "341/341 [==============================] - 7s 22ms/step - loss: 0.3195 - root_mean_squared_error: 0.5652 - val_loss: 0.3872 - val_root_mean_squared_error: 0.6223\n",
            "Epoch 19/500\n",
            "341/341 [==============================] - 7s 22ms/step - loss: 0.3092 - root_mean_squared_error: 0.5561 - val_loss: 0.3874 - val_root_mean_squared_error: 0.6224\n",
            "Epoch 20/500\n",
            "341/341 [==============================] - 7s 22ms/step - loss: 0.3119 - root_mean_squared_error: 0.5585 - val_loss: 0.3891 - val_root_mean_squared_error: 0.6238\n",
            "Epoch 21/500\n",
            "341/341 [==============================] - 7s 22ms/step - loss: 0.3086 - root_mean_squared_error: 0.5555 - val_loss: 0.3927 - val_root_mean_squared_error: 0.6267\n",
            "Epoch 22/500\n",
            "341/341 [==============================] - 7s 22ms/step - loss: 0.2891 - root_mean_squared_error: 0.5376 - val_loss: 0.3991 - val_root_mean_squared_error: 0.6318\n",
            "Epoch 23/500\n",
            "341/341 [==============================] - 7s 22ms/step - loss: 0.2880 - root_mean_squared_error: 0.5367 - val_loss: 0.3818 - val_root_mean_squared_error: 0.6179\n",
            "Epoch 24/500\n",
            "341/341 [==============================] - 7s 22ms/step - loss: 0.2840 - root_mean_squared_error: 0.5329 - val_loss: 0.3894 - val_root_mean_squared_error: 0.6240\n",
            "Epoch 25/500\n",
            "341/341 [==============================] - 7s 22ms/step - loss: 0.2773 - root_mean_squared_error: 0.5266 - val_loss: 0.4172 - val_root_mean_squared_error: 0.6459\n",
            "Epoch 26/500\n",
            "341/341 [==============================] - 7s 22ms/step - loss: 0.2759 - root_mean_squared_error: 0.5252 - val_loss: 0.3824 - val_root_mean_squared_error: 0.6184\n",
            "Epoch 27/500\n",
            "341/341 [==============================] - 7s 22ms/step - loss: 0.2733 - root_mean_squared_error: 0.5227 - val_loss: 0.3820 - val_root_mean_squared_error: 0.6181\n",
            "Epoch 28/500\n",
            "341/341 [==============================] - 7s 22ms/step - loss: 0.2799 - root_mean_squared_error: 0.5290 - val_loss: 0.3895 - val_root_mean_squared_error: 0.6241\n",
            "Epoch 29/500\n",
            "341/341 [==============================] - 7s 22ms/step - loss: 0.2690 - root_mean_squared_error: 0.5187 - val_loss: 0.3980 - val_root_mean_squared_error: 0.6309\n",
            "225/225 [==============================] - 1s 6ms/step - loss: 0.3980 - root_mean_squared_error: 0.6309\n",
            "225/225 [==============================] - 2s 7ms/step - loss: 0.6276 - root_mean_squared_error: 0.7922\n",
            "[0.6276251077651978, 0.7922279238700867]\n"
          ],
          "name": "stdout"
        }
      ]
    },
    {
      "cell_type": "code",
      "metadata": {
        "colab": {
          "base_uri": "https://localhost:8080/",
          "height": 374
        },
        "id": "2Mkpl-a2BRRH",
        "outputId": "27cc721f-be1d-4de6-90c3-9bebc2b36fc4"
      },
      "source": [
        "plt.figure(figsize=(10,6 ))\n",
        "plt.plot(history.history['loss'],label='Training MSE')\n",
        "plt.plot(history.history['val_loss'], label='Validation MSE')\n",
        "plt.legend(loc=\"upper left\")\n",
        "plt.show()"
      ],
      "execution_count": null,
      "outputs": [
        {
          "output_type": "display_data",
          "data": {
            "image/png": "[encoded data removed]",
            "text/plain": [
              "<Figure size 720x432 with 1 Axes>"
            ]
          },
          "metadata": {
            "tags": [],
            "needs_background": "light"
          }
        }
      ]
    },
    {
      "cell_type": "code",
      "metadata": {
        "colab": {
          "base_uri": "https://localhost:8080/",
          "height": 374
        },
        "id": "YZSLvQTgB3SD",
        "outputId": "a4a5ba01-159e-43c3-ad62-7085824eb360"
      },
      "source": [
        "plt.figure(figsize=(10,6 ))\n",
        "plt.plot(history.history['root_mean_squared_error'],label='Training RMSE')\n",
        "plt.plot(history.history['val_root_mean_squared_error'],label='Validation RMSE')\n",
        "plt.legend(loc=\"upper left\")\n",
        "plt.show()"
      ],
      "execution_count": null,
      "outputs": [
        {
          "output_type": "display_data",
          "data": {
            "image/png": "[encoded data removed]",
            "text/plain": [
              "<Figure size 720x432 with 1 Axes>"
            ]
          },
          "metadata": {
            "tags": [],
            "needs_background": "light"
          }
        }
      ]
    },
    {
      "cell_type": "code",
      "metadata": {
        "id": "nTLTU_lfB7os"
      },
      "source": [
        "p_train=lstm_model.predict(x_train)\n",
        "p_val=lstm_model.predict(x_val)\n",
        "p_test=lstm_model.predict(x_test)\n",
        "\n",
        "y_train_inv=(y_train*forcing_std['totalSnow_cm'])+forcing_mean['totalSnow_cm']\n",
        "p_train_inv=(p_train*forcing_std['totalSnow_cm'])+forcing_mean['totalSnow_cm']\n",
        "\n",
        "y_val_inv=(y_val*forcing_std['totalSnow_cm'])+forcing_mean['totalSnow_cm']\n",
        "p_val_inv=(p_val*forcing_std['totalSnow_cm'])+forcing_mean['totalSnow_cm']\n",
        "\n",
        "y_test_inv=(y_test*forcing_std['totalSnow_cm'])+forcing_mean['totalSnow_cm']\n",
        "p_test_inv=(p_test*forcing_std['totalSnow_cm'])+forcing_mean['totalSnow_cm']"
      ],
      "execution_count": null,
      "outputs": []
    },
    {
      "cell_type": "code",
      "metadata": {
        "id": "8vOlf0Y7B_oO"
      },
      "source": [
        "from math import sqrt\n",
        "from sklearn.metrics import mean_squared_error\n",
        "from sklearn.metrics import r2_score\n",
        "def evaluate_forecasts(test, forecasts, n_seq):\n",
        " for i in range(n_seq):\n",
        "  actual = [row[i] for row in test]\n",
        "  predicted = [forecast[i] for forecast in forecasts]\n",
        "  rmse = sqrt(mean_squared_error(actual, predicted))\n",
        "  mae = mean_absolute_error(actual, predicted)\n",
        "  r2=r2_score(actual, predicted)\n",
        "  print('t+%s RMSE: %s , MAE: %s , R2: %s' % ((i+1), rmse,mae,r2))\n",
        "\n"
      ],
      "execution_count": null,
      "outputs": []
    },
    {
      "cell_type": "code",
      "metadata": {
        "colab": {
          "base_uri": "https://localhost:8080/"
        },
        "id": "TLLV_bTdCGFv",
        "outputId": "31ad495c-bac7-4bca-8de1-67bf018a75b2"
      },
      "source": [
        "evaluate_forecasts(y_test_inv, p_test_inv, 4)"
      ],
      "execution_count": null,
      "outputs": [
        {
          "output_type": "stream",
          "text": [
            "t+1 RMSE: 0.6885278223518715 , MAE: 0.17026889596574157 , R2: 0.8172030483113818\n",
            "t+2 RMSE: 0.9081970712767747 , MAE: 0.253430592002791 , R2: 0.681956770258568\n",
            "t+3 RMSE: 1.0803397460157511 , MAE: 0.3316659001413658 , R2: 0.5499646078456297\n",
            "t+4 RMSE: 1.218636032403594 , MAE: 0.400117280731239 , R2: 0.4273701393995102\n"
          ],
          "name": "stdout"
        }
      ]
    },
    {
      "cell_type": "code",
      "metadata": {
        "colab": {
          "base_uri": "https://localhost:8080/",
          "height": 283
        },
        "id": "Dc12TiCDCGar",
        "outputId": "88263d9d-919a-4759-c58c-921dff9f196e"
      },
      "source": [
        "plt.plot(p_test_inv[-2])\n",
        "plt.plot(y_test_inv[-2])"
      ],
      "execution_count": null,
      "outputs": [
        {
          "output_type": "execute_result",
          "data": {
            "text/plain": [
              "[<matplotlib.lines.Line2D at 0x7f3a4ec83f10>]"
            ]
          },
          "metadata": {
            "tags": []
          },
          "execution_count": 156
        },
        {
          "output_type": "display_data",
          "data": {
            "image/png": "[encoded data removed]",
            "text/plain": [
              "<Figure size 432x288 with 1 Axes>"
            ]
          },
          "metadata": {
            "tags": [],
            "needs_background": "light"
          }
        }
      ]
    },
    {
      "cell_type": "code",
      "metadata": {
        "colab": {
          "base_uri": "https://localhost:8080/",
          "height": 337
        },
        "id": "Na2_dQmEGy12",
        "outputId": "78e68cf8-a631-4d23-b5d7-7328534e9f9f"
      },
      "source": [
        "plt.plot(y_test_inv)"
      ],
      "execution_count": null,
      "outputs": [
        {
          "output_type": "execute_result",
          "data": {
            "text/plain": [
              "[<matplotlib.lines.Line2D at 0x7f39eb212350>,\n",
              " <matplotlib.lines.Line2D at 0x7f39eb212d90>,\n",
              " <matplotlib.lines.Line2D at 0x7f39eb212dd0>,\n",
              " <matplotlib.lines.Line2D at 0x7f39eb212fd0>]"
            ]
          },
          "metadata": {
            "tags": []
          },
          "execution_count": 160
        },
        {
          "output_type": "display_data",
          "data": {
            "image/png": "[encoded data removed]",
            "text/plain": [
              "<Figure size 432x288 with 1 Axes>"
            ]
          },
          "metadata": {
            "tags": [],
            "needs_background": "light"
          }
        }
      ]
    },
    {
      "cell_type": "code",
      "metadata": {
        "colab": {
          "base_uri": "https://localhost:8080/",
          "height": 337
        },
        "id": "JroIbMpBHA__",
        "outputId": "7bc4fecf-e56c-4359-fb3e-be8f140997d8"
      },
      "source": [
        "plt.plot(y_test_inv)"
      ],
      "execution_count": null,
      "outputs": [
        {
          "output_type": "execute_result",
          "data": {
            "text/plain": [
              "[<matplotlib.lines.Line2D at 0x7f3aa1e17490>,\n",
              " <matplotlib.lines.Line2D at 0x7f3aa1e17690>,\n",
              " <matplotlib.lines.Line2D at 0x7f3aa1e17850>,\n",
              " <matplotlib.lines.Line2D at 0x7f3aa1e17a10>]"
            ]
          },
          "metadata": {
            "tags": []
          },
          "execution_count": 167
        },
        {
          "output_type": "display_data",
          "data": {
            "image/png": "[encoded data removed]",
            "text/plain": [
              "<Figure size 432x288 with 1 Axes>"
            ]
          },
          "metadata": {
            "tags": [],
            "needs_background": "light"
          }
        }
      ]
    },
    {
      "cell_type": "code",
      "metadata": {
        "colab": {
          "base_uri": "https://localhost:8080/",
          "height": 337
        },
        "id": "TSc4eaQfHQgF",
        "outputId": "375692ba-4386-4dd0-f4bc-0698d75c92ca"
      },
      "source": [
        "plt.plot(p_test_inv.reshape(7184, 4))"
      ],
      "execution_count": null,
      "outputs": [
        {
          "output_type": "execute_result",
          "data": {
            "text/plain": [
              "[<matplotlib.lines.Line2D at 0x7f39eb246cd0>,\n",
              " <matplotlib.lines.Line2D at 0x7f39eb246550>,\n",
              " <matplotlib.lines.Line2D at 0x7f3a5413f6d0>,\n",
              " <matplotlib.lines.Line2D at 0x7f3a5413f5d0>]"
            ]
          },
          "metadata": {
            "tags": []
          },
          "execution_count": 165
        },
        {
          "output_type": "display_data",
          "data": {
            "image/png": "[encoded data removed]",
            "text/plain": [
              "<Figure size 432x288 with 1 Axes>"
            ]
          },
          "metadata": {
            "tags": [],
            "needs_background": "light"
          }
        }
      ]
    },
    {
      "cell_type": "code",
      "metadata": {
        "id": "zIi2oH5EHUjR"
      },
      "source": [
        ""
      ],
      "execution_count": null,
      "outputs": []
    }
  ]
}